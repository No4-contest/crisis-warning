{
  "nbformat": 4,
  "nbformat_minor": 0,
  "metadata": {
    "colab": {
      "provenance": []
    },
    "kernelspec": {
      "name": "python3",
      "display_name": "Python 3"
    },
    "language_info": {
      "name": "python"
    }
  },
  "cells": [
    {
      "cell_type": "code",
      "execution_count": 2,
      "metadata": {
        "id": "TVp75SUSE_Al"
      },
      "outputs": [],
      "source": [
        "import pandas as pd"
      ]
    },
    {
      "cell_type": "code",
      "source": [
        "df = pd.read_csv('df_0929_ver_1.csv')\n",
        "print(df.head(1))"
      ],
      "metadata": {
        "id": "ZMSFmLKZFBxW",
        "colab": {
          "base_uri": "https://localhost:8080/"
        },
        "outputId": "43eeb439-1a5c-429a-99d8-daefef02a57e"
      },
      "execution_count": 6,
      "outputs": [
        {
          "output_type": "stream",
          "name": "stdout",
          "text": [
            "     store_id store_address store_name brand_code industry   open_date  \\\n",
            "0  16184E93D9    서울 성동구 마장동       성우**        NaN      축산물  20130320.0   \n",
            "\n",
            "   close_date  ref_year_month operation_months_range sales_amount_range  ...  \\\n",
            "0         NaN          202405               2_10-25%           3_25-50%  ...   \n",
            "\n",
            "  nearest_bus_lat nearest_bus_lon nearest_bus_dist_km nearest_subway  \\\n",
            "0       37.567063      127.044643            0.096983             마장   \n",
            "\n",
            "   nearest_subway_lat  nearest_subway_lon  nearest_subway_dist_km  \\\n",
            "0             37.5661          127.042973                0.209686   \n",
            "\n",
            "   nearest_subway_passengers  bus_200m_count  subway_500m_count  \n",
            "0               11287.552632               3                  1  \n",
            "\n",
            "[1 rows x 59 columns]\n"
          ]
        }
      ]
    },
    {
      "cell_type": "code",
      "source": [
        "store_features = pd.read_csv('1002_store_features.csv')\n",
        "print(store_features.head(1))"
      ],
      "metadata": {
        "colab": {
          "base_uri": "https://localhost:8080/"
        },
        "id": "H4-GVwE_R2UA",
        "outputId": "dcb165fc-4b64-46a6-dc36-775ace26c4d9"
      },
      "execution_count": 7,
      "outputs": [
        {
          "output_type": "stream",
          "name": "stdout",
          "text": [
            "     store_id  is_closed business_district region_3depth_name    industry  \\\n",
            "0  000F03E44A      False                뚝섬              성수동1가  중식-딤섬/중식만두   \n",
            "\n",
            "  industry_group        store_address store_name brand_code          x  ...  \\\n",
            "0             중식  서울특별시 성동구 왕십리로4가길 9       육육**        NaN  127.04636  ...   \n",
            "\n",
            "   industry_emb_17 industry_emb_18 industry_emb_19  industry_emb_20  \\\n",
            "0        -0.032721        0.160167        0.005362         0.094463   \n",
            "\n",
            "   static_cluster  exp1_industry_cluster  exp1_final_cluster  \\\n",
            "0              11                      5                   3   \n",
            "\n",
            "   exp2_industry_cluster  exp2_final_cluster  district_rank_encoding  \n",
            "0                      5                   0               32.206667  \n",
            "\n",
            "[1 rows x 440 columns]\n"
          ]
        }
      ]
    },
    {
      "cell_type": "code",
      "source": [
        "# ==============================================================================\n",
        "# 데이터 병합 및 전처리\n",
        "# ==============================================================================\n",
        "# 1. 클러스터 ID 컬럼 이름 변경 (가독성을 위해)\n",
        "store_features.rename(columns={'static_cluster': 'cluster_id'}, inplace=True)\n",
        "\n",
        "# 2. store_features에서 필요한 정보(cluster_id)를 df에 병합(merge)\n",
        "df_merged = pd.merge(\n",
        "    df,\n",
        "    store_features[['store_id', 'cluster_id']],\n",
        "    on='store_id',\n",
        "    how='left'\n",
        ")\n",
        "\n",
        "# 3. 월(month) 순서를 나타내는 컬럼 생성 (이벤트 생성 함수에서 사용)\n",
        "df_merged['month_order'] = df_merged.groupby('store_id').cumcount() + 1\n"
      ],
      "metadata": {
        "id": "WGNXAulHUSp0"
      },
      "execution_count": 8,
      "outputs": []
    },
    {
      "cell_type": "code",
      "source": [
        "# 1. 계산을 위해 시간 순서대로 정확히 정렬합니다.\n",
        "df_merged.sort_values(by=['store_id', 'ref_year_month'], inplace=True)\n",
        "\n",
        "#\n",
        "df_merged['rank_change'] = df_merged.groupby('store_id')['industry_sales_rank_ratio'].diff()\n",
        "df_merged['district_rank_change'] = df_merged.groupby('store_id')['district_sales_rank_ratio'].diff()"
      ],
      "metadata": {
        "id": "MbGPVwFBVvyY"
      },
      "execution_count": 9,
      "outputs": []
    },
    {
      "cell_type": "markdown",
      "source": [
        "# 1차 시도"
      ],
      "metadata": {
        "id": "-vpIjR7VkMHO"
      }
    },
    {
      "cell_type": "code",
      "source": [
        "# ==============================================================================\n",
        "# 이벤트 생성 함수 정의\n",
        "# ==============================================================================\n",
        "\n",
        "def generate_event(row):\n",
        "    events = []\n",
        "\n",
        "    # --- 범용 이벤트 (순위 변화 기준) ---\n",
        "    if row['rank_change'] > 5:\n",
        "        events.append('업종내순위_악화')\n",
        "    elif row['rank_change'] < -5:\n",
        "        events.append('업종내순위_개선')\n",
        "\n",
        "    # --- 핵심 위험 이벤트  ---\n",
        "    # C0: 정통 한식 - 핵심 고객층(40대 남성) 이탈\n",
        "    if row['cluster_id'] == 0 and row['male_40_ratio'] < 9.0:\n",
        "        events.append('C0_핵심고객_이탈')\n",
        "\n",
        "    # C2: 백반/가정식 - 초기 우위 상실 (순위 악화로 근사)\n",
        "    # district_sales_rank_ratio_deterioration_count는 집계 지표이므로, 월별 순위가 크게 악화되는 현상으로 대체\n",
        "    if row['cluster_id'] == 2 and row['district_rank_change'] > 15: # 15%p 이상 순위 악화 시\n",
        "        events.append('C2_초기우위_상실의심')\n",
        "\n",
        "    # C3: 소규모 분식 - 고객 구성 왜곡 (30대 남성 비중의 급격한 월별 증가로 근사)\n",
        "    # male_30_ratio_start_end_diff는 집계 지표이므로, 전달 대비 비중 급증으로 대체\n",
        "    if row['cluster_id'] == 3:\n",
        "        # 이 규칙을 위해서는 'male_30_ratio_change' 컬럼이 사전에 계산되어야 합니다.\n",
        "        # 예: df_merged['male_30_ratio_change'] = df_merged.groupby('store_id')['male_30_ratio'].diff()\n",
        "        # 만약 해당 컬럼이 있다면 아래 주석을 해제하세요.\n",
        "        # if row['male_30_ratio_change'] > 1.5:\n",
        "        #    events.append('C3_고객구성_왜곡')\n",
        "        # 대안: 30대 남성 비율이 비정상적으로 높은 경우\n",
        "        if row['male_30_ratio'] > 20.0: # (예시 임계값, 데이터 분포를 보고 조정 필요)\n",
        "            events.append('C3_고객구성_왜곡')\n",
        "\n",
        "    # C5: 소형 커피 - 초기 고객 확보 실패 및 단골 부재\n",
        "    if row['cluster_id'] == 5:\n",
        "        if row['month_order'] <= 3 and row['female_30_ratio'] < 14.0:\n",
        "            events.append('C5_초기핵심고객_부재')\n",
        "        if row['month_order'] > 6 and row['returning_customer_ratio'] < 25.0:\n",
        "            events.append('C5_단골확보_실패')\n",
        "\n",
        "    # C7: 대형 카페 - 내부 경쟁력 상실 의심\n",
        "    if row['cluster_id'] == 7 and row['industry_closure_ratio'] < 15.5:\n",
        "        events.append('C7_내부경쟁력_상실의심')\n",
        "\n",
        "    # C8: 마장동 시장 - 상권 환경 적응 실패 (상권 폐업률의 급격한 월별 감소로 근사)\n",
        "    # district_closure_ratio_start_end_diff는 집계 지표이므로, 전달 대비 변화량으로 대체\n",
        "    if row['cluster_id'] == 8:\n",
        "        # 이 규칙을 위해서는 'district_closure_ratio_change' 컬럼이 사전에 계산되어야 합니다.\n",
        "        # 예: df_merged['district_closure_ratio_change'] = df_merged.groupby('store_id')['district_closure_ratio'].diff()\n",
        "        # 만약 해당 컬럼이 있다면 아래 주석을 해제하세요.\n",
        "        # if row['district_closure_ratio_change'] < -0.5:\n",
        "        #    events.append('C8_상권적응_실패의심')\n",
        "        # 대안: 상권 폐업률이 매우 낮은데(안정적인데), 업종 내 순위가 악화될 경우\n",
        "        if row['district_closure_ratio'] < 5.0 and row['rank_change'] > 5:\n",
        "             events.append('C8_상권적응_실패의심')\n",
        "\n",
        "    # C9: 단일 양식당 - 비정상적 운영 변동성 (순위 변동폭으로 근사)\n",
        "    if row['cluster_id'] == 9 and abs(row['district_rank_change']) > 20: # 순위 변동폭이 20%p 이상일 때\n",
        "        events.append('C9_운영_변동성_과다')\n",
        "\n",
        "    # C10: 치킨/주류 - 장기 저항력 부족 (핵심 타겟 고객 설정 오류)\n",
        "    if row['cluster_id'] == 10 and row['male_20_under_ratio'] > 20.0:\n",
        "        events.append('C10_타겟고객_설정오류')\n",
        "\n",
        "    if not events:\n",
        "        return '일상'\n",
        "    else:\n",
        "        return '-'.join(sorted(events))\n"
      ],
      "metadata": {
        "id": "QKrupXeNUirz"
      },
      "execution_count": 10,
      "outputs": []
    },
    {
      "cell_type": "code",
      "source": [
        "# ==============================================================================\n",
        "# 함수 적용 및 최종 시퀀스 데이터셋 생성\n",
        "# ==============================================================================\n",
        "# 1. 이벤트 생성\n",
        "df_merged['event'] = df_merged.apply(generate_event, axis=1)\n",
        "\n",
        "# 2. 가맹점별 시퀀스 생성\n",
        "sequences = df_merged.groupby('store_id')['event'].apply(list).reset_index()\n",
        "sequences.rename(columns={'event': 'event_sequence'}, inplace=True)\n",
        "\n",
        "# 3. '폐업' 이벤트 추가\n",
        "# is_closed 컬럼을 사용해 폐업한 가맹점 목록을 만듭니다.\n",
        "closed_stores = set(df_merged[df_merged['is_closed'] == True]['store_id'])\n",
        "\n",
        "sequences['event_sequence'] = sequences.apply(\n",
        "    lambda row: row['event_sequence'] + ['폐업'] if row['store_id'] in closed_stores else row['event_sequence'],\n",
        "    axis=1\n",
        ")\n",
        "\n",
        "# 최종 결과 확인\n",
        "print(\"--- 최종 시퀀스 데이터셋 ---\")\n",
        "print(sequences.head())"
      ],
      "metadata": {
        "colab": {
          "base_uri": "https://localhost:8080/"
        },
        "id": "j7MwUUH6U57c",
        "outputId": "7d3bb26e-2393-4eb5-da45-7f4ca8348a1c"
      },
      "execution_count": 11,
      "outputs": [
        {
          "output_type": "stream",
          "name": "stdout",
          "text": [
            "--- 최종 시퀀스 데이터셋 ---\n",
            "     store_id                                     event_sequence\n",
            "0  000F03E44A  [일상, 일상, 일상, 일상, 일상, 일상, 일상, 일상, 일상, 일상, 일상, 일...\n",
            "1  002816BA73  [일상, 일상, 일상, 일상, 일상, 일상, 일상, 일상, 일상, 일상, 일상, 일...\n",
            "2  003473B465  [일상, 일상, 일상, 일상, 일상, 일상, 일상, 일상, 일상, 일상, 일상, 일...\n",
            "3  003AC99735  [일상, 일상, 일상, C5_초기핵심고객_부재, 일상, 일상, 일상, 일상, 일상,...\n",
            "4  0041E4E5AE  [일상, 일상, 일상, 일상, 일상, 일상, 일상, 일상, 일상, 일상, 일상, 일...\n"
          ]
        }
      ]
    },
    {
      "cell_type": "code",
      "source": [
        "# 마지막 이벤트가 폐업인지 여부 컬럼 추가\n",
        "sequences['is_closed'] = sequences['event_sequence'].apply(\n",
        "    lambda seq: seq[-1] == '폐업' if len(seq) > 0 else False\n",
        ")\n",
        "\n",
        "# 일상이 아닌 이벤트 비율 계산 함수 (앞서 만든 것 재사용)\n",
        "def calc_non_daily_ratio(events):\n",
        "    total = len(events)\n",
        "    non_daily = sum(e != '일상' for e in events)\n",
        "    return non_daily / total if total > 0 else 0\n",
        "\n",
        "sequences['non_daily_ratio'] = sequences['event_sequence'].apply(calc_non_daily_ratio)\n",
        "\n",
        "# 그룹별 통계 보기\n",
        "group_stats = sequences.groupby('is_closed')['non_daily_ratio'].describe()\n",
        "print(group_stats)\n"
      ],
      "metadata": {
        "colab": {
          "base_uri": "https://localhost:8080/"
        },
        "id": "lPRwPWepSnMZ",
        "outputId": "c7814e6b-4fc2-46c5-e8a4-1820268ea896"
      },
      "execution_count": 14,
      "outputs": [
        {
          "output_type": "stream",
          "name": "stdout",
          "text": [
            "            count      mean       std   min      25%       50%       75%  max\n",
            "is_closed                                                                    \n",
            "False      4056.0  0.183463  0.273560  0.00  0.00000  0.041667  0.235294  1.0\n",
            "True        127.0  0.304161  0.328377  0.04  0.04881  0.166667  0.477273  1.0\n"
          ]
        }
      ]
    },
    {
      "cell_type": "code",
      "source": [
        "store_id = '000F03E44A'\n",
        "\n",
        "# 해당 store의 event_sequence 꺼내기\n",
        "events = sequences.loc[sequences['store_id'] == store_id, 'event_sequence'].iloc[0]\n",
        "\n",
        "# 리스트를 Series로 변환해서 count\n",
        "pd.Series(events).value_counts()\n"
      ],
      "metadata": {
        "colab": {
          "base_uri": "https://localhost:8080/",
          "height": 115
        },
        "id": "TDr_gVeMTISK",
        "outputId": "7120e6ca-7a5d-4ef2-fcc9-1d703d31fb06"
      },
      "execution_count": 23,
      "outputs": [
        {
          "output_type": "execute_result",
          "data": {
            "text/plain": [
              "일상    24\n",
              "Name: count, dtype: int64"
            ],
            "text/html": [
              "<div>\n",
              "<style scoped>\n",
              "    .dataframe tbody tr th:only-of-type {\n",
              "        vertical-align: middle;\n",
              "    }\n",
              "\n",
              "    .dataframe tbody tr th {\n",
              "        vertical-align: top;\n",
              "    }\n",
              "\n",
              "    .dataframe thead th {\n",
              "        text-align: right;\n",
              "    }\n",
              "</style>\n",
              "<table border=\"1\" class=\"dataframe\">\n",
              "  <thead>\n",
              "    <tr style=\"text-align: right;\">\n",
              "      <th></th>\n",
              "      <th>count</th>\n",
              "    </tr>\n",
              "  </thead>\n",
              "  <tbody>\n",
              "    <tr>\n",
              "      <th>일상</th>\n",
              "      <td>24</td>\n",
              "    </tr>\n",
              "  </tbody>\n",
              "</table>\n",
              "</div><br><label><b>dtype:</b> int64</label>"
            ]
          },
          "metadata": {},
          "execution_count": 23
        }
      ]
    },
    {
      "cell_type": "code",
      "source": [
        "import tensorflow as tf\n",
        "from tensorflow.keras.preprocessing.sequence import pad_sequences\n",
        "\n",
        "# 1. 모든 이벤트를 모아 고유한 이벤트 사전을 만듭니다.\n",
        "all_events = set(event for seq in sequences['event_sequence'] for event in seq)\n",
        "event2idx = {event: i + 1 for i, event in enumerate(all_events)} # 0은 패딩을 위해 남겨둠\n",
        "idx2event = {i + 1: event for i, event in enumerate(all_events)}\n",
        "\n",
        "# '폐업' 이벤트의 번호를 따로 저장해 둡니다.\n",
        "closure_idx = event2idx['폐업']\n",
        "vocab_size = len(event2idx) + 1 # 패딩 포함한 전체 사전 크기\n",
        "\n",
        "# 2. 모든 시퀀스를 정수(Integer)로 변환합니다.\n",
        "encoded_sequences = [\n",
        "    [event2idx[event] for event in seq]\n",
        "    for seq in sequences['event_sequence']\n",
        "]\n",
        "\n",
        "# 3. 모든 시퀀스의 길이를 통일합니다 (Padding).\n",
        "max_len = max(len(seq) for seq in encoded_sequences)\n",
        "padded_sequences = pad_sequences(encoded_sequences, maxlen=max_len, padding='pre')\n",
        "\n",
        "print(\"--- 정수 인코딩 및 패딩 완료 ---\")\n",
        "print(\"원본 시퀀스:\", encoded_sequences[1])\n",
        "print(\"패딩된 시퀀스:\", padded_sequences[1])"
      ],
      "metadata": {
        "colab": {
          "base_uri": "https://localhost:8080/"
        },
        "id": "Z0lg63UIWivs",
        "outputId": "2f4ea296-1057-4bca-f9fc-0d2c8b310471"
      },
      "execution_count": null,
      "outputs": [
        {
          "output_type": "stream",
          "name": "stdout",
          "text": [
            "--- 정수 인코딩 및 패딩 완료 ---\n",
            "원본 시퀀스: [12, 12, 12, 12, 12, 12, 12, 12, 12, 12, 12, 12, 12, 12, 12, 12, 12, 12, 12, 12, 12, 12, 12, 12]\n",
            "패딩된 시퀀스: [ 0 12 12 12 12 12 12 12 12 12 12 12 12 12 12 12 12 12 12 12 12 12 12 12\n",
            " 12]\n"
          ]
        }
      ]
    },
    {
      "cell_type": "code",
      "source": [
        "import numpy as np\n",
        "\n",
        "X = [] # 모델에 들어갈 입력 데이터\n",
        "y = [] # 모델이 맞춰야 할 정답 데이터\n",
        "\n",
        "for seq in padded_sequences:\n",
        "    for i in range(1, len(seq)):\n",
        "        # 0이 아닌 부분까지만 학습 데이터를 생성\n",
        "        if seq[i] == 0:\n",
        "            continue\n",
        "        X.append(seq[:i])\n",
        "        y.append(seq[i])\n",
        "\n",
        "X = pad_sequences(X, maxlen=max_len, padding='pre')\n",
        "y = np.array(y)\n",
        "\n",
        "print(\"\\n--- 학습 데이터셋 생성 ---\")\n",
        "print(\"입력 데이터 예시 (X):\", X[-3:])\n",
        "print(\"정답 데이터 예시 (y):\", y[-3:])"
      ],
      "metadata": {
        "colab": {
          "base_uri": "https://localhost:8080/"
        },
        "id": "Zg4AwV-GWpE1",
        "outputId": "dc8fc521-6c22-4778-c6ba-900977345dd2"
      },
      "execution_count": null,
      "outputs": [
        {
          "output_type": "stream",
          "name": "stdout",
          "text": [
            "\n",
            "--- 학습 데이터셋 생성 ---\n",
            "입력 데이터 예시 (X): [[ 0  0  0  0 12 12 12 12 12 12 12 12 12 12 12 12 12 12 12 12 12 12 12 12\n",
            "  12]\n",
            " [ 0  0  0 12 12 12 12 12 12 12 12 12 12 12 12 12 12 12 12 12 12 12 12 12\n",
            "  12]\n",
            " [ 0  0 12 12 12 12 12 12 12 12 12 12 12 12 12 12 12 12 12 12 12 12 12 12\n",
            "  12]]\n",
            "정답 데이터 예시 (y): [12 12 12]\n"
          ]
        }
      ]
    },
    {
      "cell_type": "code",
      "source": [
        "import tensorflow as tf\n",
        "from tensorflow.keras.models import Sequential\n",
        "from tensorflow.keras.layers import Embedding, GRU, Dense\n",
        "\n",
        "# ==============================================================================\n",
        "# 모델 정의\n",
        "# ==============================================================================\n",
        "# 모델의 각 층(Layer)을 순서대로 쌓아 만듭니다.\n",
        "\n",
        "model = Sequential([\n",
        "    # 1. Embedding Layer\n",
        "    # 단어(이벤트)를 벡터로 변환하는 층입니다.\n",
        "    # 모델이 이벤트 간의 의미적 관계를 학습하는 공간입니다.\n",
        "    # input_dim: 전체 이벤트의 개수 (패딩 포함)\n",
        "    # output_dim: 각 단어를 몇 차원의 벡터로 표현할지 (보통 64, 128 등)\n",
        "    # input_length: 입력 시퀀스의 길이\n",
        "    Embedding(input_dim=vocab_size, output_dim=64, input_length=max_len),\n",
        "\n",
        "    # 2. GRU Layer (Recurrent Neural Network)\n",
        "    # 시퀀스 데이터의 시간적 패턴(순서)을 학습하는 핵심 층입니다.\n",
        "    # units: GRU 레이어의 뉴런 수\n",
        "    GRU(units=128),\n",
        "\n",
        "    # 3. Dense Layer (Output Layer)\n",
        "    # GRU에서 처리된 결과를 바탕으로 최종 예측을 수행합니다.\n",
        "    # units: vocab_size -> 예측해야 할 이벤트의 총 개수\n",
        "    # activation='softmax': 모든 이벤트에 대한 확률을 출력하여, 총합이 1이 되도록 만듭니다.\n",
        "    Dense(units=vocab_size, activation='softmax')\n",
        "])\n",
        "\n",
        "\n",
        "# ==============================================================================\n",
        "# 모델 컴파일\n",
        "# ==============================================================================\n",
        "# 모델을 어떻게 학습시킬지 설정합니다.\n",
        "model.compile(\n",
        "    optimizer='adam',  # 가장 일반적으로 사용되는 최적화 알고리즘\n",
        "    loss='sparse_categorical_crossentropy', # 정수 형태의 정답(y)을 다룰 때 사용하는 손실 함수\n",
        "    metrics=['accuracy'] # 학습 과정을 평가할 지표\n",
        ")\n",
        "\n",
        "# 모델의 전체 구조를 확인합니다.\n",
        "model.summary()"
      ],
      "metadata": {
        "colab": {
          "base_uri": "https://localhost:8080/",
          "height": 295
        },
        "id": "5bwBowXyXJjk",
        "outputId": "d17523a7-f79d-4663-8a93-0c04144b4a1d"
      },
      "execution_count": null,
      "outputs": [
        {
          "output_type": "stream",
          "name": "stderr",
          "text": [
            "/usr/local/lib/python3.12/dist-packages/keras/src/layers/core/embedding.py:97: UserWarning: Argument `input_length` is deprecated. Just remove it.\n",
            "  warnings.warn(\n"
          ]
        },
        {
          "output_type": "display_data",
          "data": {
            "text/plain": [
              "\u001b[1mModel: \"sequential\"\u001b[0m\n"
            ],
            "text/html": [
              "<pre style=\"white-space:pre;overflow-x:auto;line-height:normal;font-family:Menlo,'DejaVu Sans Mono',consolas,'Courier New',monospace\"><span style=\"font-weight: bold\">Model: \"sequential\"</span>\n",
              "</pre>\n"
            ]
          },
          "metadata": {}
        },
        {
          "output_type": "display_data",
          "data": {
            "text/plain": [
              "┏━━━━━━━━━━━━━━━━━━━━━━━━━━━━━━━━━┳━━━━━━━━━━━━━━━━━━━━━━━━┳━━━━━━━━━━━━━━━┓\n",
              "┃\u001b[1m \u001b[0m\u001b[1mLayer (type)                   \u001b[0m\u001b[1m \u001b[0m┃\u001b[1m \u001b[0m\u001b[1mOutput Shape          \u001b[0m\u001b[1m \u001b[0m┃\u001b[1m \u001b[0m\u001b[1m      Param #\u001b[0m\u001b[1m \u001b[0m┃\n",
              "┡━━━━━━━━━━━━━━━━━━━━━━━━━━━━━━━━━╇━━━━━━━━━━━━━━━━━━━━━━━━╇━━━━━━━━━━━━━━━┩\n",
              "│ embedding (\u001b[38;5;33mEmbedding\u001b[0m)           │ ?                      │   \u001b[38;5;34m0\u001b[0m (unbuilt) │\n",
              "├─────────────────────────────────┼────────────────────────┼───────────────┤\n",
              "│ gru (\u001b[38;5;33mGRU\u001b[0m)                       │ ?                      │   \u001b[38;5;34m0\u001b[0m (unbuilt) │\n",
              "├─────────────────────────────────┼────────────────────────┼───────────────┤\n",
              "│ dense (\u001b[38;5;33mDense\u001b[0m)                   │ ?                      │   \u001b[38;5;34m0\u001b[0m (unbuilt) │\n",
              "└─────────────────────────────────┴────────────────────────┴───────────────┘\n"
            ],
            "text/html": [
              "<pre style=\"white-space:pre;overflow-x:auto;line-height:normal;font-family:Menlo,'DejaVu Sans Mono',consolas,'Courier New',monospace\">┏━━━━━━━━━━━━━━━━━━━━━━━━━━━━━━━━━┳━━━━━━━━━━━━━━━━━━━━━━━━┳━━━━━━━━━━━━━━━┓\n",
              "┃<span style=\"font-weight: bold\"> Layer (type)                    </span>┃<span style=\"font-weight: bold\"> Output Shape           </span>┃<span style=\"font-weight: bold\">       Param # </span>┃\n",
              "┡━━━━━━━━━━━━━━━━━━━━━━━━━━━━━━━━━╇━━━━━━━━━━━━━━━━━━━━━━━━╇━━━━━━━━━━━━━━━┩\n",
              "│ embedding (<span style=\"color: #0087ff; text-decoration-color: #0087ff\">Embedding</span>)           │ ?                      │   <span style=\"color: #00af00; text-decoration-color: #00af00\">0</span> (unbuilt) │\n",
              "├─────────────────────────────────┼────────────────────────┼───────────────┤\n",
              "│ gru (<span style=\"color: #0087ff; text-decoration-color: #0087ff\">GRU</span>)                       │ ?                      │   <span style=\"color: #00af00; text-decoration-color: #00af00\">0</span> (unbuilt) │\n",
              "├─────────────────────────────────┼────────────────────────┼───────────────┤\n",
              "│ dense (<span style=\"color: #0087ff; text-decoration-color: #0087ff\">Dense</span>)                   │ ?                      │   <span style=\"color: #00af00; text-decoration-color: #00af00\">0</span> (unbuilt) │\n",
              "└─────────────────────────────────┴────────────────────────┴───────────────┘\n",
              "</pre>\n"
            ]
          },
          "metadata": {}
        },
        {
          "output_type": "display_data",
          "data": {
            "text/plain": [
              "\u001b[1m Total params: \u001b[0m\u001b[38;5;34m0\u001b[0m (0.00 B)\n"
            ],
            "text/html": [
              "<pre style=\"white-space:pre;overflow-x:auto;line-height:normal;font-family:Menlo,'DejaVu Sans Mono',consolas,'Courier New',monospace\"><span style=\"font-weight: bold\"> Total params: </span><span style=\"color: #00af00; text-decoration-color: #00af00\">0</span> (0.00 B)\n",
              "</pre>\n"
            ]
          },
          "metadata": {}
        },
        {
          "output_type": "display_data",
          "data": {
            "text/plain": [
              "\u001b[1m Trainable params: \u001b[0m\u001b[38;5;34m0\u001b[0m (0.00 B)\n"
            ],
            "text/html": [
              "<pre style=\"white-space:pre;overflow-x:auto;line-height:normal;font-family:Menlo,'DejaVu Sans Mono',consolas,'Courier New',monospace\"><span style=\"font-weight: bold\"> Trainable params: </span><span style=\"color: #00af00; text-decoration-color: #00af00\">0</span> (0.00 B)\n",
              "</pre>\n"
            ]
          },
          "metadata": {}
        },
        {
          "output_type": "display_data",
          "data": {
            "text/plain": [
              "\u001b[1m Non-trainable params: \u001b[0m\u001b[38;5;34m0\u001b[0m (0.00 B)\n"
            ],
            "text/html": [
              "<pre style=\"white-space:pre;overflow-x:auto;line-height:normal;font-family:Menlo,'DejaVu Sans Mono',consolas,'Courier New',monospace\"><span style=\"font-weight: bold\"> Non-trainable params: </span><span style=\"color: #00af00; text-decoration-color: #00af00\">0</span> (0.00 B)\n",
              "</pre>\n"
            ]
          },
          "metadata": {}
        }
      ]
    },
    {
      "cell_type": "code",
      "source": [
        "# ==============================================================================\n",
        "# 모델 학습\n",
        "# ==============================================================================\n",
        "# epochs: 전체 데이터셋을 몇 번 반복해서 학습할지\n",
        "# batch_size: 한 번에 몇 개의 데이터를 묶어서 처리할지\n",
        "history = model.fit(\n",
        "    X,\n",
        "    y,\n",
        "    epochs=10,\n",
        "    batch_size=64,\n",
        "    validation_split=0.2 # 데이터의 20%를 검증용으로 사용\n",
        ")\n",
        "\n",
        "# 이제 'model'은 학습이 완료된 상태입니다.\n",
        "# 이 모델을 사용하여 이전 단계에서 설명한 것처럼 '폐업 위험도'를 예측할 수 있습니다."
      ],
      "metadata": {
        "colab": {
          "base_uri": "https://localhost:8080/"
        },
        "id": "P60zWLbaXfzt",
        "outputId": "ee5700b0-b2ee-4606-c939-541c125c4733"
      },
      "execution_count": null,
      "outputs": [
        {
          "output_type": "stream",
          "name": "stdout",
          "text": [
            "Epoch 1/10\n",
            "\u001b[1m1083/1083\u001b[0m \u001b[32m━━━━━━━━━━━━━━━━━━━━\u001b[0m\u001b[37m\u001b[0m \u001b[1m48s\u001b[0m 42ms/step - accuracy: 0.9012 - loss: 0.5184 - val_accuracy: 0.9230 - val_loss: 0.3040\n",
            "Epoch 2/10\n",
            "\u001b[1m1083/1083\u001b[0m \u001b[32m━━━━━━━━━━━━━━━━━━━━\u001b[0m\u001b[37m\u001b[0m \u001b[1m82s\u001b[0m 42ms/step - accuracy: 0.9247 - loss: 0.2884 - val_accuracy: 0.9255 - val_loss: 0.2850\n",
            "Epoch 3/10\n",
            "\u001b[1m1083/1083\u001b[0m \u001b[32m━━━━━━━━━━━━━━━━━━━━\u001b[0m\u001b[37m\u001b[0m \u001b[1m44s\u001b[0m 41ms/step - accuracy: 0.9266 - loss: 0.2786 - val_accuracy: 0.9256 - val_loss: 0.2809\n",
            "Epoch 4/10\n",
            "\u001b[1m1083/1083\u001b[0m \u001b[32m━━━━━━━━━━━━━━━━━━━━\u001b[0m\u001b[37m\u001b[0m \u001b[1m40s\u001b[0m 37ms/step - accuracy: 0.9287 - loss: 0.2688 - val_accuracy: 0.9276 - val_loss: 0.2761\n",
            "Epoch 5/10\n",
            "\u001b[1m1083/1083\u001b[0m \u001b[32m━━━━━━━━━━━━━━━━━━━━\u001b[0m\u001b[37m\u001b[0m \u001b[1m36s\u001b[0m 33ms/step - accuracy: 0.9292 - loss: 0.2623 - val_accuracy: 0.9273 - val_loss: 0.2725\n",
            "Epoch 6/10\n",
            "\u001b[1m1083/1083\u001b[0m \u001b[32m━━━━━━━━━━━━━━━━━━━━\u001b[0m\u001b[37m\u001b[0m \u001b[1m36s\u001b[0m 33ms/step - accuracy: 0.9299 - loss: 0.2602 - val_accuracy: 0.9277 - val_loss: 0.2679\n",
            "Epoch 7/10\n",
            "\u001b[1m1083/1083\u001b[0m \u001b[32m━━━━━━━━━━━━━━━━━━━━\u001b[0m\u001b[37m\u001b[0m \u001b[1m36s\u001b[0m 33ms/step - accuracy: 0.9292 - loss: 0.2574 - val_accuracy: 0.9271 - val_loss: 0.2670\n",
            "Epoch 8/10\n",
            "\u001b[1m1083/1083\u001b[0m \u001b[32m━━━━━━━━━━━━━━━━━━━━\u001b[0m\u001b[37m\u001b[0m \u001b[1m35s\u001b[0m 32ms/step - accuracy: 0.9288 - loss: 0.2600 - val_accuracy: 0.9277 - val_loss: 0.2652\n",
            "Epoch 9/10\n",
            "\u001b[1m1083/1083\u001b[0m \u001b[32m━━━━━━━━━━━━━━━━━━━━\u001b[0m\u001b[37m\u001b[0m \u001b[1m36s\u001b[0m 33ms/step - accuracy: 0.9286 - loss: 0.2554 - val_accuracy: 0.9249 - val_loss: 0.2656\n",
            "Epoch 10/10\n",
            "\u001b[1m1083/1083\u001b[0m \u001b[32m━━━━━━━━━━━━━━━━━━━━\u001b[0m\u001b[37m\u001b[0m \u001b[1m35s\u001b[0m 32ms/step - accuracy: 0.9283 - loss: 0.2524 - val_accuracy: 0.9281 - val_loss: 0.2663\n"
          ]
        }
      ]
    },
    {
      "cell_type": "code",
      "source": [
        "import numpy as np\n",
        "import matplotlib.pyplot as plt\n",
        "import seaborn as sns\n",
        "from sklearn.metrics import confusion_matrix, classification_report\n",
        "\n",
        "# 1. 검증 데이터 준비\n",
        "# model.fit에서 validation_split=0.2로 설정했으므로, X와 y의 마지막 20%가 검증 데이터입니다.\n",
        "split_point = int(len(X) * 0.8)\n",
        "X_val, y_val = X[split_point:], y[split_point:]\n",
        "\n",
        "# 2. 검증 데이터에 대한 예측 수행\n",
        "# model.predict는 각 이벤트에 대한 확률을 출력하므로, 가장 확률이 높은 이벤트를 예측값으로 선택합니다.\n",
        "y_pred_probs = model.predict(X_val)\n",
        "y_pred = np.argmax(y_pred_probs, axis=1)\n",
        "\n",
        "# 3. '폐업' 클래스에 대한 성능만 집중적으로 확인\n",
        "# closure_idx는 '폐업' 이벤트의 번호입니다.\n",
        "print(\"--- '폐업' 클래스 성능 평가 ---\")\n",
        "print(classification_report(y_val == closure_idx, y_pred == closure_idx))\n",
        "\n",
        "# 4. 혼동 행렬 시각화\n",
        "cm = confusion_matrix(y_val == closure_idx, y_pred == closure_idx)\n",
        "plt.figure(figsize=(8, 6))\n",
        "sns.heatmap(cm, annot=True, fmt='d', cmap='Blues', xticklabels=['생존 예측', '폐업 예측'], yticklabels=['실제 생존', '실제 폐업'])\n",
        "plt.xlabel('Predicted Label')\n",
        "plt.ylabel('True Label')\n",
        "plt.title('Confusion Matrix for Closure Prediction')\n",
        "plt.show()"
      ],
      "metadata": {
        "colab": {
          "base_uri": "https://localhost:8080/",
          "height": 1000
        },
        "id": "ASOS-OuuZzS8",
        "outputId": "2674fbfc-6bd2-48a7-fc7a-97b775ef8c00"
      },
      "execution_count": null,
      "outputs": [
        {
          "output_type": "stream",
          "name": "stdout",
          "text": [
            "\u001b[1m542/542\u001b[0m \u001b[32m━━━━━━━━━━━━━━━━━━━━\u001b[0m\u001b[37m\u001b[0m \u001b[1m6s\u001b[0m 10ms/step\n",
            "--- '폐업' 클래스 성능 평가 ---\n",
            "              precision    recall  f1-score   support\n",
            "\n",
            "       False       1.00      1.00      1.00     17295\n",
            "        True       1.00      0.42      0.59        26\n",
            "\n",
            "    accuracy                           1.00     17321\n",
            "   macro avg       1.00      0.71      0.80     17321\n",
            "weighted avg       1.00      1.00      1.00     17321\n",
            "\n"
          ]
        },
        {
          "output_type": "stream",
          "name": "stderr",
          "text": [
            "/usr/local/lib/python3.12/dist-packages/seaborn/utils.py:61: UserWarning: Glyph 49373 (\\N{HANGUL SYLLABLE SAENG}) missing from font(s) DejaVu Sans.\n",
            "  fig.canvas.draw()\n",
            "/usr/local/lib/python3.12/dist-packages/seaborn/utils.py:61: UserWarning: Glyph 51316 (\\N{HANGUL SYLLABLE JON}) missing from font(s) DejaVu Sans.\n",
            "  fig.canvas.draw()\n",
            "/usr/local/lib/python3.12/dist-packages/seaborn/utils.py:61: UserWarning: Glyph 50696 (\\N{HANGUL SYLLABLE YE}) missing from font(s) DejaVu Sans.\n",
            "  fig.canvas.draw()\n",
            "/usr/local/lib/python3.12/dist-packages/seaborn/utils.py:61: UserWarning: Glyph 52769 (\\N{HANGUL SYLLABLE CEUG}) missing from font(s) DejaVu Sans.\n",
            "  fig.canvas.draw()\n",
            "/usr/local/lib/python3.12/dist-packages/seaborn/utils.py:61: UserWarning: Glyph 54224 (\\N{HANGUL SYLLABLE PYE}) missing from font(s) DejaVu Sans.\n",
            "  fig.canvas.draw()\n",
            "/usr/local/lib/python3.12/dist-packages/seaborn/utils.py:61: UserWarning: Glyph 50629 (\\N{HANGUL SYLLABLE EOB}) missing from font(s) DejaVu Sans.\n",
            "  fig.canvas.draw()\n",
            "/usr/local/lib/python3.12/dist-packages/seaborn/utils.py:61: UserWarning: Glyph 49892 (\\N{HANGUL SYLLABLE SIL}) missing from font(s) DejaVu Sans.\n",
            "  fig.canvas.draw()\n",
            "/usr/local/lib/python3.12/dist-packages/seaborn/utils.py:61: UserWarning: Glyph 51228 (\\N{HANGUL SYLLABLE JE}) missing from font(s) DejaVu Sans.\n",
            "  fig.canvas.draw()\n",
            "/usr/local/lib/python3.12/dist-packages/IPython/core/pylabtools.py:151: UserWarning: Glyph 49892 (\\N{HANGUL SYLLABLE SIL}) missing from font(s) DejaVu Sans.\n",
            "  fig.canvas.print_figure(bytes_io, **kw)\n",
            "/usr/local/lib/python3.12/dist-packages/IPython/core/pylabtools.py:151: UserWarning: Glyph 51228 (\\N{HANGUL SYLLABLE JE}) missing from font(s) DejaVu Sans.\n",
            "  fig.canvas.print_figure(bytes_io, **kw)\n",
            "/usr/local/lib/python3.12/dist-packages/IPython/core/pylabtools.py:151: UserWarning: Glyph 49373 (\\N{HANGUL SYLLABLE SAENG}) missing from font(s) DejaVu Sans.\n",
            "  fig.canvas.print_figure(bytes_io, **kw)\n",
            "/usr/local/lib/python3.12/dist-packages/IPython/core/pylabtools.py:151: UserWarning: Glyph 51316 (\\N{HANGUL SYLLABLE JON}) missing from font(s) DejaVu Sans.\n",
            "  fig.canvas.print_figure(bytes_io, **kw)\n",
            "/usr/local/lib/python3.12/dist-packages/IPython/core/pylabtools.py:151: UserWarning: Glyph 54224 (\\N{HANGUL SYLLABLE PYE}) missing from font(s) DejaVu Sans.\n",
            "  fig.canvas.print_figure(bytes_io, **kw)\n",
            "/usr/local/lib/python3.12/dist-packages/IPython/core/pylabtools.py:151: UserWarning: Glyph 50629 (\\N{HANGUL SYLLABLE EOB}) missing from font(s) DejaVu Sans.\n",
            "  fig.canvas.print_figure(bytes_io, **kw)\n",
            "/usr/local/lib/python3.12/dist-packages/IPython/core/pylabtools.py:151: UserWarning: Glyph 50696 (\\N{HANGUL SYLLABLE YE}) missing from font(s) DejaVu Sans.\n",
            "  fig.canvas.print_figure(bytes_io, **kw)\n",
            "/usr/local/lib/python3.12/dist-packages/IPython/core/pylabtools.py:151: UserWarning: Glyph 52769 (\\N{HANGUL SYLLABLE CEUG}) missing from font(s) DejaVu Sans.\n",
            "  fig.canvas.print_figure(bytes_io, **kw)\n"
          ]
        },
        {
          "output_type": "display_data",
          "data": {
            "text/plain": [
              "<Figure size 800x600 with 2 Axes>"
            ],
            "image/png": "[encoded data removed]"
          },
          "metadata": {}
        }
      ]
    },
    {
      "cell_type": "code",
      "source": [
        "import numpy as np\n",
        "from tensorflow.keras.preprocessing.sequence import pad_sequences\n",
        "\n",
        "# ==============================================================================\n",
        "# [1. 예측 함수 정의] - 이 부분을 먼저 실행해야 합니다.\n",
        "# ==============================================================================\n",
        "def predict_closure_risk(store_sequence_str, model, event2idx, max_len, closure_idx):\n",
        "    \"\"\"\n",
        "    가맹점의 이벤트 시퀀스(문자열 리스트)를 입력받아\n",
        "    학습된 모델을 기반으로 폐업 위험도를 반환합니다.\n",
        "    \"\"\"\n",
        "    # 1. Integer Encoding: 문자열 이벤트를 숫자로 변환합니다.\n",
        "    encoded_sequence = [event2idx.get(event, 0) for event in store_sequence_str]\n",
        "\n",
        "    # 2. Padding: 모델의 입력 길이에 맞게 시퀀스 길이를 통일합니다.\n",
        "    padded_sequence = pad_sequences([encoded_sequence], maxlen=max_len, padding='pre')\n",
        "\n",
        "    # 3. Predict: 모델을 사용해 다음 이벤트 확률을 예측합니다.\n",
        "    prediction_probabilities = model.predict(padded_sequence, verbose=0)[0]\n",
        "\n",
        "    # 4. Extract Risk Score: 전체 확률 배열에서 '폐업' 이벤트의 확률만 추출합니다.\n",
        "    risk_score = prediction_probabilities[closure_idx]\n",
        "\n",
        "    return risk_score\n",
        "\n",
        "\n",
        "# ==============================================================================\n",
        "# [2. 함수를 사용하여 위험도 계산 및 랭킹 생성] - 이제 오류 없이 실행됩니다.\n",
        "# ==============================================================================\n",
        "# 1. 운영 중인 가맹점의 시퀀스만 필터링\n",
        "active_stores_df = sequences[~sequences['event_sequence'].apply(lambda x: '폐업' in x)].copy()\n",
        "\n",
        "# 2. 각 가맹점의 위험도를 계산하여 저장\n",
        "active_stores_df['risk_score'] = active_stores_df['event_sequence'].apply(\n",
        "    lambda seq: predict_closure_risk(seq, model, event2idx, max_len, closure_idx)\n",
        ")\n",
        "\n",
        "# 3. 위험도가 높은 순서대로 정렬\n",
        "risk_ranking = active_stores_df.sort_values(by='risk_score', ascending=False)\n",
        "\n",
        "# 4. 상위 5개 위험 가맹점의 상세 내역 확인\n",
        "print(\"\\n--- 🚨 상위 5개 위험 가맹점 상세 분석 ---\")\n",
        "for index, row in risk_ranking.head(5).iterrows():\n",
        "    store_id = row['store_id']\n",
        "    risk_score = row['risk_score']\n",
        "    event_sequence = row['event_sequence']\n",
        "\n",
        "    print(f\"\\n[가맹점 ID: {store_id}]\")\n",
        "    print(f\"  - 폐업 위험도: {risk_score*100:.2f}%\")\n",
        "    print(f\"  - 이벤트 시퀀스: {' -> '.join(event_sequence)}\")"
      ],
      "metadata": {
        "colab": {
          "base_uri": "https://localhost:8080/"
        },
        "id": "EQ0yGHOoaB3_",
        "outputId": "b06838db-7c56-4df7-ea75-c0e76b76f1cf"
      },
      "execution_count": null,
      "outputs": [
        {
          "output_type": "stream",
          "name": "stdout",
          "text": [
            "\n",
            "--- 🚨 상위 5개 위험 가맹점 상세 분석 ---\n",
            "\n",
            "[가맹점 ID: 9218EE2A57]\n",
            "  - 폐업 위험도: 99.84%\n",
            "  - 이벤트 시퀀스: C7_내부경쟁력_상실의심 -> 일상 -> 일상 -> 일상 -> 일상 -> 일상 -> 일상 -> 일상 -> 일상 -> 일상 -> C7_내부경쟁력_상실의심 -> C7_내부경쟁력_상실의심 -> C7_내부경쟁력_상실의심 -> C7_내부경쟁력_상실의심 -> C7_내부경쟁력_상실의심 -> C7_내부경쟁력_상실의심 -> C7_내부경쟁력_상실의심 -> C7_내부경쟁력_상실의심 -> C7_내부경쟁력_상실의심 -> C7_내부경쟁력_상실의심 -> C7_내부경쟁력_상실의심 -> C7_내부경쟁력_상실의심 -> C7_내부경쟁력_상실의심 -> 일상\n",
            "\n",
            "[가맹점 ID: 9972114004]\n",
            "  - 폐업 위험도: 99.84%\n",
            "  - 이벤트 시퀀스: C7_내부경쟁력_상실의심 -> 일상 -> 일상 -> 일상 -> 일상 -> 일상 -> 일상 -> 일상 -> 일상 -> 일상 -> C7_내부경쟁력_상실의심 -> C7_내부경쟁력_상실의심 -> C7_내부경쟁력_상실의심 -> C7_내부경쟁력_상실의심 -> C7_내부경쟁력_상실의심 -> C7_내부경쟁력_상실의심 -> C7_내부경쟁력_상실의심 -> C7_내부경쟁력_상실의심 -> C7_내부경쟁력_상실의심 -> C7_내부경쟁력_상실의심 -> C7_내부경쟁력_상실의심 -> C7_내부경쟁력_상실의심 -> C7_내부경쟁력_상실의심 -> 일상\n",
            "\n",
            "[가맹점 ID: BCA89C9A13]\n",
            "  - 폐업 위험도: 99.84%\n",
            "  - 이벤트 시퀀스: C7_내부경쟁력_상실의심 -> 일상 -> 일상 -> 일상 -> 일상 -> 일상 -> 일상 -> 일상 -> 일상 -> 일상 -> C7_내부경쟁력_상실의심 -> C7_내부경쟁력_상실의심 -> C7_내부경쟁력_상실의심 -> C7_내부경쟁력_상실의심 -> C7_내부경쟁력_상실의심 -> C7_내부경쟁력_상실의심 -> C7_내부경쟁력_상실의심 -> C7_내부경쟁력_상실의심 -> C7_내부경쟁력_상실의심 -> C7_내부경쟁력_상실의심 -> C7_내부경쟁력_상실의심 -> C7_내부경쟁력_상실의심 -> C7_내부경쟁력_상실의심 -> 일상\n",
            "\n",
            "[가맹점 ID: 69756C0A85]\n",
            "  - 폐업 위험도: 99.82%\n",
            "  - 이벤트 시퀀스: C7_내부경쟁력_상실의심 -> 일상 -> 일상 -> 일상 -> 일상 -> 일상 -> 일상 -> 업종내순위_개선 -> 업종내순위_개선 -> 일상 -> C7_내부경쟁력_상실의심 -> C7_내부경쟁력_상실의심 -> C7_내부경쟁력_상실의심 -> C7_내부경쟁력_상실의심 -> C7_내부경쟁력_상실의심 -> C7_내부경쟁력_상실의심 -> C7_내부경쟁력_상실의심 -> C7_내부경쟁력_상실의심 -> C7_내부경쟁력_상실의심 -> C7_내부경쟁력_상실의심 -> C7_내부경쟁력_상실의심-업종내순위_악화 -> C7_내부경쟁력_상실의심 -> C7_내부경쟁력_상실의심 -> 일상\n",
            "\n",
            "[가맹점 ID: 5D4A7C44B2]\n",
            "  - 폐업 위험도: 99.82%\n",
            "  - 이벤트 시퀀스: 일상 -> 일상 -> 일상 -> 일상 -> 일상 -> 일상 -> 일상 -> 일상 -> 일상 -> 일상 -> 일상 -> 일상 -> 일상 -> 일상 -> 일상 -> 일상 -> 일상 -> 일상 -> 일상 -> 일상 -> 일상 -> 일상 -> 업종내순위_악화 -> 업종내순위_개선\n"
          ]
        }
      ]
    },
    {
      "cell_type": "markdown",
      "source": [
        "# 2차 시도"
      ],
      "metadata": {
        "id": "H9vD5FVqkOMP"
      }
    },
    {
      "cell_type": "code",
      "source": [
        "import numpy as np\n",
        "import tensorflow as tf\n",
        "import matplotlib.pyplot as plt\n",
        "from sklearn.metrics import precision_recall_curve, classification_report\n",
        "from tensorflow.keras.models import Sequential\n",
        "from tensorflow.keras.layers import Embedding, GRU, Dense\n",
        "from tensorflow.keras.preprocessing.sequence import pad_sequences\n"
      ],
      "metadata": {
        "id": "Jtp_t-yYkO0k"
      },
      "execution_count": null,
      "outputs": []
    },
    {
      "cell_type": "code",
      "source": [
        "def generate_event_upgraded(row):\n",
        "    events = []\n",
        "\n",
        "    # --- 범용 이벤트 (세분화) ---\n",
        "    if row['rank_change'] > 15:\n",
        "        events.append('업종내순위_대폭악화')\n",
        "    elif row['rank_change'] > 5:\n",
        "        events.append('업종내순위_소폭악화')\n",
        "\n",
        "    if row['district_rank_change'] > 15:\n",
        "        events.append('상권내순위_대폭악화')\n",
        "    elif row['district_rank_change'] > 5:\n",
        "        events.append('상권내순위_소폭악화')\n",
        "\n",
        "    # --- 핵심 위험 이벤트 (인사이트 기반 고도화 및 다중 적용) ---\n",
        "\n",
        "    # C0: 정통 한식\n",
        "    if row['cluster_id'] == 0:\n",
        "        if row['male_40_ratio'] < 9.0: # 폐업점 평균(8.7) 근사\n",
        "            events.append('C0_핵심고객_이탈')\n",
        "        if row['district_closure_ratio'] > 9.0: # 폐업점 평균(9.3) 근사\n",
        "            events.append('C0_주변상권_위험')\n",
        "\n",
        "    # C2: 백반/가정식\n",
        "    if row['cluster_id'] == 2:\n",
        "        # '초기 우위 상실' 근사: 초반 6개월 내 상권 순위 대폭 악화\n",
        "        if row['month_order'] <= 6 and row['district_rank_change'] > 15:\n",
        "            events.append('C2_초기우위_상실의심')\n",
        "        # '고객 기반 확보 실패' 근사: 30대 여성 비율이 매우 낮을 때\n",
        "        if row['female_30_ratio'] < 10.0:\n",
        "            events.append('C2_고객기반_부실')\n",
        "\n",
        "    # C3: 소규모 분식\n",
        "    if row['cluster_id'] == 3 and row['male_30_ratio'] > 15.0: # 생존점 평균보다 훨씬 높은 수준\n",
        "        events.append('C3_고객구성_왜곡')\n",
        "\n",
        "    # C5: 소형 커피\n",
        "    if row['cluster_id'] == 5:\n",
        "        if row['month_order'] <= 3 and row['female_30_ratio'] < 14.0: # 조기경보 트리거\n",
        "            events.append('C5_초기핵심고객_부재')\n",
        "        if row['month_order'] > 6 and row['returning_customer_ratio'] < 25.0: # 폐업점 평균(22.4) 근사\n",
        "            events.append('C5_단골확보_실패')\n",
        "        if row['rank_change'] > 0: # 생존점은 순위가 개선(-7.6)되나 폐업점은 악화(+3.5)\n",
        "            events.append('C5_경쟁력_악화')\n",
        "\n",
        "    # C7: 대형 카페\n",
        "    if row['cluster_id'] == 7:\n",
        "        # 경쟁 완화에도 성과가 낮은 상황 (복합 이벤트)\n",
        "        if row['industry_closure_ratio'] < 16.0 and row['rank_change'] > 0:\n",
        "            events.append('C7_내부역량_부족의심')\n",
        "\n",
        "    # C8: 마장동 시장\n",
        "    if row['cluster_id'] == 8:\n",
        "        # 상권 안정화에도 성과가 낮은 상황 (복합 이벤트)\n",
        "        if row['district_closure_ratio'] < 5.0 and row['rank_change'] > 5:\n",
        "            events.append('C8_상권적응_실패의심')\n",
        "\n",
        "    # C9: 단일 양식당\n",
        "    if row['cluster_id'] == 9:\n",
        "        if abs(row['district_rank_change']) > 20:\n",
        "            events.append('C9_운영_변동성_과다')\n",
        "        # 주변 상권 불안정성에 노출\n",
        "        if row['district_closure_ratio'] > 10.0: # (임계값 예시)\n",
        "            events.append('C9_상권_불안정')\n",
        "\n",
        "    # C10: 치킨/주류\n",
        "    if row['cluster_id'] == 10:\n",
        "        if row['male_20_under_ratio'] > 20.0: # 폐업점 평균(21.4) 근사\n",
        "            events.append('C10_타겟고객_설정오류')\n",
        "        if row['delivery_sales_ratio'] < 30.0: # 배달 비중이 낮을 경우 (임계값 예시)\n",
        "            events.append('C10_배달경쟁력_부족')\n",
        "\n",
        "    if not events:\n",
        "        events.append('일상')\n",
        "\n",
        "    return events # 최종적으로 이벤트 '리스트'를 반환\n"
      ],
      "metadata": {
        "id": "_5ZrwGKh2qJg"
      },
      "execution_count": null,
      "outputs": []
    },
    {
      "cell_type": "code",
      "source": [
        "# --- 데이터 처리부터 모델 학습까지 ---\n",
        "\n",
        "# 1. 사전 계산 컬럼 추가\n",
        "df_merged.sort_values(by=['store_id', 'ref_year_month'], inplace=True)\n",
        "df_merged['rank_change'] = df_merged.groupby('store_id')['industry_sales_rank_ratio'].diff()\n",
        "df_merged['district_rank_change'] = df_merged.groupby('store_id')['district_sales_rank_ratio'].diff()\n",
        "\n",
        "# 2. 새로운 이벤트 생성 함수 적용\n",
        "df_merged['event_list'] = df_merged.apply(generate_event_upgraded, axis=1)\n",
        "\n",
        "# 3. 가맹점별 시퀀스 생성 (이벤트 리스트를 하나의 긴 리스트로 펼침)\n",
        "sequences_df = df_merged.groupby('store_id')['event_list'].apply(lambda lists: [event for sublist in lists for event in sublist]).reset_index()\n",
        "sequences_df.rename(columns={'event_list': 'event_sequence'}, inplace=True)\n",
        "\n",
        "# '폐업' 이벤트 추가\n",
        "closed_stores = set(df_merged[df_merged['is_closed'] == True]['store_id'])\n",
        "sequences_df['event_sequence'] = sequences_df.apply(\n",
        "    lambda row: row['event_sequence'] + ['폐업'] if row['store_id'] in closed_stores else row['event_sequence'],\n",
        "    axis=1\n",
        ")\n",
        "\n",
        "# 4. 데이터 전처리 및 학습셋 생성\n",
        "all_events = set(event for seq in sequences_df['event_sequence'] for event in seq)\n",
        "event2idx = {event: i + 1 for i, event in enumerate(all_events)}\n",
        "idx2event = {i + 1: event for i, event in enumerate(all_events)}\n",
        "closure_idx = event2idx.get('폐업', -1) # 폐업 이벤트가 없을 경우 오류 방지\n",
        "vocab_size = len(event2idx) + 1\n",
        "\n",
        "encoded_sequences = [[event2idx[event] for event in seq] for seq in sequences_df['event_sequence']]\n",
        "max_len = max(len(seq) for seq in encoded_sequences)\n",
        "padded_sequences = pad_sequences(encoded_sequences, maxlen=max_len, padding='pre')\n",
        "\n",
        "X, y = [], []\n",
        "for seq in padded_sequences:\n",
        "    for i in range(1, len(seq)):\n",
        "        if seq[i] == 0: continue\n",
        "        X.append(seq[:i])\n",
        "        y.append(seq[i])\n",
        "\n",
        "X = pad_sequences(X, maxlen=max_len, padding='pre')\n",
        "y = np.array(y)\n"
      ],
      "metadata": {
        "id": "cxlDTWLD264L"
      },
      "execution_count": null,
      "outputs": []
    },
    {
      "cell_type": "code",
      "source": [
        "# 5. 모델 정의 및 학습 (이전과 동일)\n",
        "model = Sequential([\n",
        "    Embedding(input_dim=vocab_size, output_dim=64, input_length=max_len),\n",
        "    GRU(units=128),\n",
        "    Dense(units=vocab_size, activation='softmax')\n",
        "])\n",
        "model.compile(optimizer='adam', loss='sparse_categorical_crossentropy', metrics=['accuracy'])\n",
        "history = model.fit(X, y, epochs=10, batch_size=64, validation_split=0.2)\n"
      ],
      "metadata": {
        "colab": {
          "base_uri": "https://localhost:8080/"
        },
        "id": "oV_V4SNv290k",
        "outputId": "06054600-fdfd-4bb9-8511-49e624d2c539"
      },
      "execution_count": null,
      "outputs": [
        {
          "output_type": "stream",
          "name": "stdout",
          "text": [
            "Epoch 1/10\n"
          ]
        },
        {
          "output_type": "stream",
          "name": "stderr",
          "text": [
            "/usr/local/lib/python3.12/dist-packages/keras/src/layers/core/embedding.py:97: UserWarning: Argument `input_length` is deprecated. Just remove it.\n",
            "  warnings.warn(\n"
          ]
        },
        {
          "output_type": "stream",
          "name": "stdout",
          "text": [
            "\u001b[1m1109/1109\u001b[0m \u001b[32m━━━━━━━━━━━━━━━━━━━━\u001b[0m\u001b[37m\u001b[0m \u001b[1m83s\u001b[0m 73ms/step - accuracy: 0.8788 - loss: 0.5722 - val_accuracy: 0.9163 - val_loss: 0.3170\n",
            "Epoch 2/10\n",
            "\u001b[1m1109/1109\u001b[0m \u001b[32m━━━━━━━━━━━━━━━━━━━━\u001b[0m\u001b[37m\u001b[0m \u001b[1m75s\u001b[0m 68ms/step - accuracy: 0.9198 - loss: 0.3091 - val_accuracy: 0.9209 - val_loss: 0.3031\n",
            "Epoch 3/10\n",
            "\u001b[1m1109/1109\u001b[0m \u001b[32m━━━━━━━━━━━━━━━━━━━━\u001b[0m\u001b[37m\u001b[0m \u001b[1m71s\u001b[0m 64ms/step - accuracy: 0.9223 - loss: 0.2996 - val_accuracy: 0.9225 - val_loss: 0.2992\n",
            "Epoch 4/10\n",
            "\u001b[1m1109/1109\u001b[0m \u001b[32m━━━━━━━━━━━━━━━━━━━━\u001b[0m\u001b[37m\u001b[0m \u001b[1m82s\u001b[0m 64ms/step - accuracy: 0.9235 - loss: 0.2937 - val_accuracy: 0.9229 - val_loss: 0.2913\n",
            "Epoch 5/10\n",
            "\u001b[1m1109/1109\u001b[0m \u001b[32m━━━━━━━━━━━━━━━━━━━━\u001b[0m\u001b[37m\u001b[0m \u001b[1m71s\u001b[0m 64ms/step - accuracy: 0.9258 - loss: 0.2864 - val_accuracy: 0.9251 - val_loss: 0.2890\n",
            "Epoch 6/10\n",
            "\u001b[1m1109/1109\u001b[0m \u001b[32m━━━━━━━━━━━━━━━━━━━━\u001b[0m\u001b[37m\u001b[0m \u001b[1m82s\u001b[0m 64ms/step - accuracy: 0.9278 - loss: 0.2797 - val_accuracy: 0.9251 - val_loss: 0.2847\n",
            "Epoch 7/10\n",
            "\u001b[1m1109/1109\u001b[0m \u001b[32m━━━━━━━━━━━━━━━━━━━━\u001b[0m\u001b[37m\u001b[0m \u001b[1m71s\u001b[0m 64ms/step - accuracy: 0.9259 - loss: 0.2835 - val_accuracy: 0.9273 - val_loss: 0.2831\n",
            "Epoch 8/10\n",
            "\u001b[1m1109/1109\u001b[0m \u001b[32m━━━━━━━━━━━━━━━━━━━━\u001b[0m\u001b[37m\u001b[0m \u001b[1m71s\u001b[0m 64ms/step - accuracy: 0.9291 - loss: 0.2708 - val_accuracy: 0.9292 - val_loss: 0.2810\n",
            "Epoch 9/10\n",
            "\u001b[1m1109/1109\u001b[0m \u001b[32m━━━━━━━━━━━━━━━━━━━━\u001b[0m\u001b[37m\u001b[0m \u001b[1m68s\u001b[0m 61ms/step - accuracy: 0.9298 - loss: 0.2686 - val_accuracy: 0.9266 - val_loss: 0.2794\n",
            "Epoch 10/10\n",
            "\u001b[1m1109/1109\u001b[0m \u001b[32m━━━━━━━━━━━━━━━━━━━━\u001b[0m\u001b[37m\u001b[0m \u001b[1m70s\u001b[0m 63ms/step - accuracy: 0.9282 - loss: 0.2730 - val_accuracy: 0.9276 - val_loss: 0.2768\n"
          ]
        }
      ]
    },
    {
      "cell_type": "code",
      "source": [
        "# 최적 임계점 탐색 및 최종 성능 평가\n",
        "\n",
        "split_point = int(len(X) * 0.8)\n",
        "X_val, y_val = X[split_point:], y[split_point:]\n",
        "\n",
        "# '폐업' 클래스의 예측 확률만 추출\n",
        "y_pred_probs = model.predict(X_val)[:, closure_idx]\n",
        "\n",
        "# Precision-Recall 커브 계산 및 시각화\n",
        "precisions, recalls, thresholds = precision_recall_curve(y_val == closure_idx, y_pred_probs)\n",
        "\n",
        "plt.figure(figsize=(10, 6))\n",
        "plt.plot(thresholds, precisions[:-1], \"b--\", label=\"Precision\")\n",
        "plt.plot(thresholds, recalls[:-1], \"g-\", label=\"Recall\")\n",
        "plt.xlabel(\"Threshold\")\n",
        "plt.legend()\n",
        "plt.title(\"Precision-Recall vs. Threshold for Upgraded Model\")\n",
        "plt.grid(True)\n",
        "plt.show()\n",
        "\n",
        "# F1-score가 최대가 되는 지점의 임계값을 찾아 적용\n",
        "f1_scores = 2 * recalls * precisions / (recalls + precisions + 1e-10) # 0으로 나누는 것 방지\n",
        "best_threshold = thresholds[np.argmax(f1_scores[:-1])]\n",
        "print(f\"최적 임계값 (Best F1-score): {best_threshold:.4f}\")\n",
        "\n",
        "# 최적 임계값으로 최종 성능 다시 확인\n",
        "final_pred = (y_pred_probs >= best_threshold).astype(int)\n",
        "print(\"\\n--- 최적 임계값 적용 후 성능 평가 ---\")\n",
        "print(classification_report(y_val == closure_idx, final_pred))\n"
      ],
      "metadata": {
        "colab": {
          "base_uri": "https://localhost:8080/",
          "height": 645
        },
        "id": "Qf2qD02d3ECD",
        "outputId": "0386bcb8-93fe-49a0-8b5d-c16998e20e71"
      },
      "execution_count": null,
      "outputs": [
        {
          "output_type": "stream",
          "name": "stdout",
          "text": [
            "\u001b[1m555/555\u001b[0m \u001b[32m━━━━━━━━━━━━━━━━━━━━\u001b[0m\u001b[37m\u001b[0m \u001b[1m5s\u001b[0m 9ms/step\n"
          ]
        },
        {
          "output_type": "display_data",
          "data": {
            "text/plain": [
              "<Figure size 1000x600 with 1 Axes>"
            ],
            "image/png": "[encoded data removed]"
          },
          "metadata": {}
        },
        {
          "output_type": "stream",
          "name": "stdout",
          "text": [
            "최적 임계값 (Best F1-score): 0.0067\n",
            "\n",
            "--- 최적 임계값 적용 후 성능 평가 ---\n",
            "              precision    recall  f1-score   support\n",
            "\n",
            "       False       1.00      0.98      0.99     17709\n",
            "        True       0.02      0.35      0.05        26\n",
            "\n",
            "    accuracy                           0.98     17735\n",
            "   macro avg       0.51      0.66      0.52     17735\n",
            "weighted avg       1.00      0.98      0.99     17735\n",
            "\n"
          ]
        }
      ]
    },
    {
      "cell_type": "markdown",
      "source": [
        "# 3차 시도"
      ],
      "metadata": {
        "id": "SA7uZ2-o673p"
      }
    },
    {
      "cell_type": "code",
      "source": [
        "# ==============================================================================\n",
        "# 이벤트 생성 함수 정의\n",
        "# ==============================================================================\n",
        "\n",
        "def generate_event(row):\n",
        "    events = []\n",
        "\n",
        "    # --- 범용 이벤트 (순위 변화 기준) ---\n",
        "    if row['rank_change'] > 5:\n",
        "        events.append('업종내순위_악화')\n",
        "    elif row['rank_change'] < -5:\n",
        "        events.append('업종내순위_개선')\n",
        "\n",
        "    # --- 핵심 위험 이벤트  ---\n",
        "    # C0: 정통 한식 - 핵심 고객층(40대 남성) 이탈\n",
        "    if row['cluster_id'] == 0 and row['male_40_ratio'] < 9.0:\n",
        "        events.append('C0_핵심고객_이탈')\n",
        "\n",
        "    # C2: 백반/가정식 - 초기 우위 상실 (순위 악화로 근사)\n",
        "    # district_sales_rank_ratio_deterioration_count는 집계 지표이므로, 월별 순위가 크게 악화되는 현상으로 대체\n",
        "    if row['cluster_id'] == 2 and row['district_rank_change'] > 15: # 15%p 이상 순위 악화 시\n",
        "        events.append('C2_초기우위_상실의심')\n",
        "\n",
        "    # C3: 소규모 분식 - 고객 구성 왜곡 (30대 남성 비중의 급격한 월별 증가로 근사)\n",
        "    # male_30_ratio_start_end_diff는 집계 지표이므로, 전달 대비 비중 급증으로 대체\n",
        "    if row['cluster_id'] == 3:\n",
        "        # 이 규칙을 위해서는 'male_30_ratio_change' 컬럼이 사전에 계산되어야 합니다.\n",
        "        # 예: df_merged['male_30_ratio_change'] = df_merged.groupby('store_id')['male_30_ratio'].diff()\n",
        "        # 만약 해당 컬럼이 있다면 아래 주석을 해제하세요.\n",
        "        # if row['male_30_ratio_change'] > 1.5:\n",
        "        #    events.append('C3_고객구성_왜곡')\n",
        "        # 대안: 30대 남성 비율이 비정상적으로 높은 경우\n",
        "        if row['male_30_ratio'] > 20.0: # (예시 임계값, 데이터 분포를 보고 조정 필요)\n",
        "            events.append('C3_고객구성_왜곡')\n",
        "\n",
        "    # C5: 소형 커피 - 초기 고객 확보 실패 및 단골 부재\n",
        "    if row['cluster_id'] == 5:\n",
        "        if row['month_order'] <= 3 and row['female_30_ratio'] < 14.0:\n",
        "            events.append('C5_초기핵심고객_부재')\n",
        "        if row['month_order'] > 6 and row['returning_customer_ratio'] < 25.0:\n",
        "            events.append('C5_단골확보_실패')\n",
        "\n",
        "    # C7: 대형 카페 - 내부 경쟁력 상실 의심\n",
        "    if row['cluster_id'] == 7 and row['industry_closure_ratio'] < 15.5:\n",
        "        events.append('C7_내부경쟁력_상실의심')\n",
        "\n",
        "    # C8: 마장동 시장 - 상권 환경 적응 실패 (상권 폐업률의 급격한 월별 감소로 근사)\n",
        "    # district_closure_ratio_start_end_diff는 집계 지표이므로, 전달 대비 변화량으로 대체\n",
        "    if row['cluster_id'] == 8:\n",
        "        # 이 규칙을 위해서는 'district_closure_ratio_change' 컬럼이 사전에 계산되어야 합니다.\n",
        "        # 예: df_merged['district_closure_ratio_change'] = df_merged.groupby('store_id')['district_closure_ratio'].diff()\n",
        "        # 만약 해당 컬럼이 있다면 아래 주석을 해제하세요.\n",
        "        # if row['district_closure_ratio_change'] < -0.5:\n",
        "        #    events.append('C8_상권적응_실패의심')\n",
        "        # 대안: 상권 폐업률이 매우 낮은데(안정적인데), 업종 내 순위가 악화될 경우\n",
        "        if row['district_closure_ratio'] < 5.0 and row['rank_change'] > 5:\n",
        "             events.append('C8_상권적응_실패의심')\n",
        "\n",
        "    # C9: 단일 양식당 - 비정상적 운영 변동성 (순위 변동폭으로 근사)\n",
        "    if row['cluster_id'] == 9 and abs(row['district_rank_change']) > 20: # 순위 변동폭이 20%p 이상일 때\n",
        "        events.append('C9_운영_변동성_과다')\n",
        "\n",
        "    # C10: 치킨/주류 - 장기 저항력 부족 (핵심 타겟 고객 설정 오류)\n",
        "    if row['cluster_id'] == 10 and row['male_20_under_ratio'] > 20.0:\n",
        "        events.append('C10_타겟고객_설정오류')\n",
        "\n",
        "    if not events:\n",
        "        return '일상'\n",
        "    else:\n",
        "        return '-'.join(sorted(events))\n",
        "\n"
      ],
      "metadata": {
        "id": "8BgFHuLj69UP"
      },
      "execution_count": null,
      "outputs": []
    },
    {
      "cell_type": "code",
      "source": [
        "# ==============================================================================\n",
        "# 함수 적용 및 최종 시퀀스 데이터셋 생성\n",
        "# ==============================================================================\n",
        "# 1. 이벤트 생성\n",
        "df_merged['event'] = df_merged.apply(generate_event, axis=1)\n",
        "\n",
        "# 2. 가맹점별 시퀀스 생성\n",
        "sequences = df_merged.groupby('store_id')['event'].apply(list).reset_index()\n",
        "sequences.rename(columns={'event': 'event_sequence'}, inplace=True)\n",
        "\n",
        "# 3. '폐업' 이벤트 추가\n",
        "# is_closed 컬럼을 사용해 폐업한 가맹점 목록을 만듭니다.\n",
        "closed_stores = set(df_merged[df_merged['is_closed'] == True]['store_id'])\n",
        "\n",
        "sequences['event_sequence'] = sequences.apply(\n",
        "    lambda row: row['event_sequence'] + ['폐업'] if row['store_id'] in closed_stores else row['event_sequence'],\n",
        "    axis=1\n",
        ")\n",
        "\n",
        "# 최종 결과 확인\n",
        "print(\"--- 최종 시퀀스 데이터셋 ---\")\n",
        "print(sequences.head())\n"
      ],
      "metadata": {
        "colab": {
          "base_uri": "https://localhost:8080/"
        },
        "id": "4aDHQq7x7NSO",
        "outputId": "c3da0c05-1103-431f-89ee-39bfe4ddaf39"
      },
      "execution_count": null,
      "outputs": [
        {
          "output_type": "stream",
          "name": "stdout",
          "text": [
            "--- 최종 시퀀스 데이터셋 ---\n",
            "     store_id                                     event_sequence\n",
            "0  000F03E44A  [일상, 일상, 일상, 일상, 일상, 일상, 일상, 일상, 일상, 일상, 일상, 일...\n",
            "1  002816BA73  [일상, 일상, 일상, 일상, 일상, 일상, 일상, 일상, 일상, 일상, 일상, 일...\n",
            "2  003473B465  [일상, 일상, 일상, 일상, 일상, 일상, 일상, 일상, 일상, 일상, 일상, 일...\n",
            "3  003AC99735  [일상, 일상, 일상, C5_초기핵심고객_부재, 일상, 일상, 일상, 일상, 일상,...\n",
            "4  0041E4E5AE  [일상, 일상, 일상, 일상, 일상, 일상, 일상, 일상, 일상, 일상, 일상, 일...\n"
          ]
        }
      ]
    },
    {
      "cell_type": "code",
      "source": [
        "import tensorflow as tf\n",
        "from tensorflow.keras.preprocessing.sequence import pad_sequences\n",
        "\n",
        "# 1. 모든 이벤트를 모아 고유한 이벤트 사전을 만듭니다.\n",
        "all_events = set(event for seq in sequences['event_sequence'] for event in seq)\n",
        "event2idx = {event: i + 1 for i, event in enumerate(all_events)} # 0은 패딩을 위해 남겨둠\n",
        "idx2event = {i + 1: event for i, event in enumerate(all_events)}\n",
        "\n",
        "# '폐업' 이벤트의 번호를 따로 저장해 둡니다.\n",
        "closure_idx = event2idx['폐업']\n",
        "vocab_size = len(event2idx) + 1 # 패딩 포함한 전체 사전 크기\n",
        "\n",
        "# 2. 모든 시퀀스를 정수(Integer)로 변환합니다.\n",
        "encoded_sequences = [\n",
        "    [event2idx[event] for event in seq]\n",
        "    for seq in sequences['event_sequence']\n",
        "]\n",
        "\n",
        "# 3. 모든 시퀀스의 길이를 통일합니다 (Padding).\n",
        "max_len = max(len(seq) for seq in encoded_sequences)\n",
        "padded_sequences = pad_sequences(encoded_sequences, maxlen=max_len, padding='pre')\n",
        "\n",
        "print(\"--- 정수 인코딩 및 패딩 완료 ---\")\n",
        "print(\"원본 시퀀스:\", encoded_sequences[1])\n",
        "print(\"패딩된 시퀀스:\", padded_sequences[1])\n"
      ],
      "metadata": {
        "colab": {
          "base_uri": "https://localhost:8080/"
        },
        "id": "GdF6DToh7PPT",
        "outputId": "390456a8-eb2f-47a5-8e7d-1b7b739b102d"
      },
      "execution_count": null,
      "outputs": [
        {
          "output_type": "stream",
          "name": "stdout",
          "text": [
            "--- 정수 인코딩 및 패딩 완료 ---\n",
            "원본 시퀀스: [15, 15, 15, 15, 15, 15, 15, 15, 15, 15, 15, 15, 15, 15, 15, 15, 15, 15, 15, 15, 15, 15, 15, 15]\n",
            "패딩된 시퀀스: [ 0 15 15 15 15 15 15 15 15 15 15 15 15 15 15 15 15 15 15 15 15 15 15 15\n",
            " 15]\n"
          ]
        }
      ]
    },
    {
      "cell_type": "code",
      "source": [
        "import numpy as np\n",
        "\n",
        "X = [] # 모델에 들어갈 입력 데이터\n",
        "y = [] # 모델이 맞춰야 할 정답 데이터\n",
        "\n",
        "for seq in padded_sequences:\n",
        "    for i in range(1, len(seq)):\n",
        "        # 0이 아닌 부분까지만 학습 데이터를 생성\n",
        "        if seq[i] == 0:\n",
        "            continue\n",
        "        X.append(seq[:i])\n",
        "        y.append(seq[i])\n",
        "\n",
        "X = pad_sequences(X, maxlen=max_len, padding='pre')\n",
        "y = np.array(y)\n",
        "\n",
        "print(\"\\n--- 학습 데이터셋 생성 ---\")\n",
        "print(\"입력 데이터 예시 (X):\", X[-3:])\n",
        "print(\"정답 데이터 예시 (y):\", y[-3:])\n"
      ],
      "metadata": {
        "colab": {
          "base_uri": "https://localhost:8080/"
        },
        "id": "FqyHJdRV7P4E",
        "outputId": "3846f2ac-c2ce-47e2-ef84-cc18801208bb"
      },
      "execution_count": null,
      "outputs": [
        {
          "output_type": "stream",
          "name": "stdout",
          "text": [
            "\n",
            "--- 학습 데이터셋 생성 ---\n",
            "입력 데이터 예시 (X): [[ 0  0  0  0 15 15 15 15 15 15 15 15 15 15 15 15 15 15 15 15 15 15 15 15\n",
            "  15]\n",
            " [ 0  0  0 15 15 15 15 15 15 15 15 15 15 15 15 15 15 15 15 15 15 15 15 15\n",
            "  15]\n",
            " [ 0  0 15 15 15 15 15 15 15 15 15 15 15 15 15 15 15 15 15 15 15 15 15 15\n",
            "  15]]\n",
            "정답 데이터 예시 (y): [15 15 15]\n"
          ]
        }
      ]
    },
    {
      "cell_type": "code",
      "source": [
        "import tensorflow as tf\n",
        "from tensorflow.keras.layers import Layer, Input, Embedding, MultiHeadAttention, LayerNormalization, Dense, GlobalAveragePooling1D\n",
        "from tensorflow.keras.models import Model\n",
        "\n",
        "# TransformerBlock 클래스 정의 (이전과 동일)\n",
        "class TransformerBlock(Layer):\n",
        "    def __init__(self, embed_dim, num_heads, ff_dim, rate=0.1):\n",
        "        super(TransformerBlock, self).__init__()\n",
        "        self.att = MultiHeadAttention(num_heads=num_heads, key_dim=embed_dim)\n",
        "        self.ffn = tf.keras.Sequential(\n",
        "            [Dense(ff_dim, activation=\"relu\"), Dense(embed_dim),]\n",
        "        )\n",
        "        self.layernorm1 = LayerNormalization(epsilon=1e-6)\n",
        "        self.layernorm2 = LayerNormalization(epsilon=1e-6)\n",
        "        self.dropout1 = tf.keras.layers.Dropout(rate)\n",
        "        self.dropout2 = tf.keras.layers.Dropout(rate)\n",
        "\n",
        "    def call(self, inputs, training=None):\n",
        "        attn_output = self.att(inputs, inputs)\n",
        "        attn_output = self.dropout1(attn_output, training=training)\n",
        "        out1 = self.layernorm1(inputs + attn_output)\n",
        "        ffn_output = self.ffn(out1)\n",
        "        ffn_output = self.dropout2(ffn_output, training=training)\n",
        "        return self.layernorm2(out1 + ffn_output)\n",
        "\n",
        "# ==============================================================================\n",
        "# Transformer 모델 조립 (수정된 부분 포함)\n",
        "# ==============================================================================\n",
        "# 모델 하이퍼파라미터\n",
        "embed_dim = 64\n",
        "num_heads = 4\n",
        "ff_dim = 64\n",
        "\n",
        "# 모델 정의\n",
        "inputs = Input(shape=(max_len,))\n",
        "embedding_layer = Embedding(input_dim=vocab_size, output_dim=embed_dim)\n",
        "x = embedding_layer(inputs)\n",
        "transformer_block = TransformerBlock(embed_dim, num_heads, ff_dim)\n",
        "x = transformer_block(x)\n",
        "\n",
        "# x = GlobalAveragePooling1D()            # <--- 이전 코드 (오류 발생)\n",
        "x = GlobalAveragePooling1D()(x)         # <--- ⭐️ 수정된 코드: (x)를 추가하여 레이어를 통과시킵니다.\n",
        "\n",
        "x = Dense(128, activation=\"relu\")(x)\n",
        "outputs = Dense(vocab_size, activation=\"softmax\")(x)\n",
        "\n",
        "# 최종 모델 생성\n",
        "transformer_model = Model(inputs=inputs, outputs=outputs)\n",
        "\n",
        "# 모델 컴파일\n",
        "transformer_model.compile(\n",
        "    optimizer='adam',\n",
        "    loss='sparse_categorical_crossentropy',\n",
        "    metrics=['accuracy']\n",
        ")\n",
        "\n",
        "# 모델 구조 확인\n",
        "transformer_model.summary()"
      ],
      "metadata": {
        "colab": {
          "base_uri": "https://localhost:8080/",
          "height": 374
        },
        "id": "EC6XhC2F7SVF",
        "outputId": "39630413-73e1-4c9c-f6d4-f012bf24ae6c"
      },
      "execution_count": null,
      "outputs": [
        {
          "output_type": "display_data",
          "data": {
            "text/plain": [
              "\u001b[1mModel: \"functional_3\"\u001b[0m\n"
            ],
            "text/html": [
              "<pre style=\"white-space:pre;overflow-x:auto;line-height:normal;font-family:Menlo,'DejaVu Sans Mono',consolas,'Courier New',monospace\"><span style=\"font-weight: bold\">Model: \"functional_3\"</span>\n",
              "</pre>\n"
            ]
          },
          "metadata": {}
        },
        {
          "output_type": "display_data",
          "data": {
            "text/plain": [
              "┏━━━━━━━━━━━━━━━━━━━━━━━━━━━━━━━━━┳━━━━━━━━━━━━━━━━━━━━━━━━┳━━━━━━━━━━━━━━━┓\n",
              "┃\u001b[1m \u001b[0m\u001b[1mLayer (type)                   \u001b[0m\u001b[1m \u001b[0m┃\u001b[1m \u001b[0m\u001b[1mOutput Shape          \u001b[0m\u001b[1m \u001b[0m┃\u001b[1m \u001b[0m\u001b[1m      Param #\u001b[0m\u001b[1m \u001b[0m┃\n",
              "┡━━━━━━━━━━━━━━━━━━━━━━━━━━━━━━━━━╇━━━━━━━━━━━━━━━━━━━━━━━━╇━━━━━━━━━━━━━━━┩\n",
              "│ input_layer_4 (\u001b[38;5;33mInputLayer\u001b[0m)      │ (\u001b[38;5;45mNone\u001b[0m, \u001b[38;5;34m25\u001b[0m)             │             \u001b[38;5;34m0\u001b[0m │\n",
              "├─────────────────────────────────┼────────────────────────┼───────────────┤\n",
              "│ embedding_3 (\u001b[38;5;33mEmbedding\u001b[0m)         │ (\u001b[38;5;45mNone\u001b[0m, \u001b[38;5;34m25\u001b[0m, \u001b[38;5;34m64\u001b[0m)         │         \u001b[38;5;34m1,600\u001b[0m │\n",
              "├─────────────────────────────────┼────────────────────────┼───────────────┤\n",
              "│ transformer_block_2             │ (\u001b[38;5;45mNone\u001b[0m, \u001b[38;5;34m25\u001b[0m, \u001b[38;5;34m64\u001b[0m)         │        \u001b[38;5;34m74,944\u001b[0m │\n",
              "│ (\u001b[38;5;33mTransformerBlock\u001b[0m)              │                        │               │\n",
              "├─────────────────────────────────┼────────────────────────┼───────────────┤\n",
              "│ global_average_pooling1d_1      │ (\u001b[38;5;45mNone\u001b[0m, \u001b[38;5;34m64\u001b[0m)             │             \u001b[38;5;34m0\u001b[0m │\n",
              "│ (\u001b[38;5;33mGlobalAveragePooling1D\u001b[0m)        │                        │               │\n",
              "├─────────────────────────────────┼────────────────────────┼───────────────┤\n",
              "│ dense_8 (\u001b[38;5;33mDense\u001b[0m)                 │ (\u001b[38;5;45mNone\u001b[0m, \u001b[38;5;34m128\u001b[0m)            │         \u001b[38;5;34m8,320\u001b[0m │\n",
              "├─────────────────────────────────┼────────────────────────┼───────────────┤\n",
              "│ dense_9 (\u001b[38;5;33mDense\u001b[0m)                 │ (\u001b[38;5;45mNone\u001b[0m, \u001b[38;5;34m25\u001b[0m)             │         \u001b[38;5;34m3,225\u001b[0m │\n",
              "└─────────────────────────────────┴────────────────────────┴───────────────┘\n"
            ],
            "text/html": [
              "<pre style=\"white-space:pre;overflow-x:auto;line-height:normal;font-family:Menlo,'DejaVu Sans Mono',consolas,'Courier New',monospace\">┏━━━━━━━━━━━━━━━━━━━━━━━━━━━━━━━━━┳━━━━━━━━━━━━━━━━━━━━━━━━┳━━━━━━━━━━━━━━━┓\n",
              "┃<span style=\"font-weight: bold\"> Layer (type)                    </span>┃<span style=\"font-weight: bold\"> Output Shape           </span>┃<span style=\"font-weight: bold\">       Param # </span>┃\n",
              "┡━━━━━━━━━━━━━━━━━━━━━━━━━━━━━━━━━╇━━━━━━━━━━━━━━━━━━━━━━━━╇━━━━━━━━━━━━━━━┩\n",
              "│ input_layer_4 (<span style=\"color: #0087ff; text-decoration-color: #0087ff\">InputLayer</span>)      │ (<span style=\"color: #00d7ff; text-decoration-color: #00d7ff\">None</span>, <span style=\"color: #00af00; text-decoration-color: #00af00\">25</span>)             │             <span style=\"color: #00af00; text-decoration-color: #00af00\">0</span> │\n",
              "├─────────────────────────────────┼────────────────────────┼───────────────┤\n",
              "│ embedding_3 (<span style=\"color: #0087ff; text-decoration-color: #0087ff\">Embedding</span>)         │ (<span style=\"color: #00d7ff; text-decoration-color: #00d7ff\">None</span>, <span style=\"color: #00af00; text-decoration-color: #00af00\">25</span>, <span style=\"color: #00af00; text-decoration-color: #00af00\">64</span>)         │         <span style=\"color: #00af00; text-decoration-color: #00af00\">1,600</span> │\n",
              "├─────────────────────────────────┼────────────────────────┼───────────────┤\n",
              "│ transformer_block_2             │ (<span style=\"color: #00d7ff; text-decoration-color: #00d7ff\">None</span>, <span style=\"color: #00af00; text-decoration-color: #00af00\">25</span>, <span style=\"color: #00af00; text-decoration-color: #00af00\">64</span>)         │        <span style=\"color: #00af00; text-decoration-color: #00af00\">74,944</span> │\n",
              "│ (<span style=\"color: #0087ff; text-decoration-color: #0087ff\">TransformerBlock</span>)              │                        │               │\n",
              "├─────────────────────────────────┼────────────────────────┼───────────────┤\n",
              "│ global_average_pooling1d_1      │ (<span style=\"color: #00d7ff; text-decoration-color: #00d7ff\">None</span>, <span style=\"color: #00af00; text-decoration-color: #00af00\">64</span>)             │             <span style=\"color: #00af00; text-decoration-color: #00af00\">0</span> │\n",
              "│ (<span style=\"color: #0087ff; text-decoration-color: #0087ff\">GlobalAveragePooling1D</span>)        │                        │               │\n",
              "├─────────────────────────────────┼────────────────────────┼───────────────┤\n",
              "│ dense_8 (<span style=\"color: #0087ff; text-decoration-color: #0087ff\">Dense</span>)                 │ (<span style=\"color: #00d7ff; text-decoration-color: #00d7ff\">None</span>, <span style=\"color: #00af00; text-decoration-color: #00af00\">128</span>)            │         <span style=\"color: #00af00; text-decoration-color: #00af00\">8,320</span> │\n",
              "├─────────────────────────────────┼────────────────────────┼───────────────┤\n",
              "│ dense_9 (<span style=\"color: #0087ff; text-decoration-color: #0087ff\">Dense</span>)                 │ (<span style=\"color: #00d7ff; text-decoration-color: #00d7ff\">None</span>, <span style=\"color: #00af00; text-decoration-color: #00af00\">25</span>)             │         <span style=\"color: #00af00; text-decoration-color: #00af00\">3,225</span> │\n",
              "└─────────────────────────────────┴────────────────────────┴───────────────┘\n",
              "</pre>\n"
            ]
          },
          "metadata": {}
        },
        {
          "output_type": "display_data",
          "data": {
            "text/plain": [
              "\u001b[1m Total params: \u001b[0m\u001b[38;5;34m88,089\u001b[0m (344.10 KB)\n"
            ],
            "text/html": [
              "<pre style=\"white-space:pre;overflow-x:auto;line-height:normal;font-family:Menlo,'DejaVu Sans Mono',consolas,'Courier New',monospace\"><span style=\"font-weight: bold\"> Total params: </span><span style=\"color: #00af00; text-decoration-color: #00af00\">88,089</span> (344.10 KB)\n",
              "</pre>\n"
            ]
          },
          "metadata": {}
        },
        {
          "output_type": "display_data",
          "data": {
            "text/plain": [
              "\u001b[1m Trainable params: \u001b[0m\u001b[38;5;34m88,089\u001b[0m (344.10 KB)\n"
            ],
            "text/html": [
              "<pre style=\"white-space:pre;overflow-x:auto;line-height:normal;font-family:Menlo,'DejaVu Sans Mono',consolas,'Courier New',monospace\"><span style=\"font-weight: bold\"> Trainable params: </span><span style=\"color: #00af00; text-decoration-color: #00af00\">88,089</span> (344.10 KB)\n",
              "</pre>\n"
            ]
          },
          "metadata": {}
        },
        {
          "output_type": "display_data",
          "data": {
            "text/plain": [
              "\u001b[1m Non-trainable params: \u001b[0m\u001b[38;5;34m0\u001b[0m (0.00 B)\n"
            ],
            "text/html": [
              "<pre style=\"white-space:pre;overflow-x:auto;line-height:normal;font-family:Menlo,'DejaVu Sans Mono',consolas,'Courier New',monospace\"><span style=\"font-weight: bold\"> Non-trainable params: </span><span style=\"color: #00af00; text-decoration-color: #00af00\">0</span> (0.00 B)\n",
              "</pre>\n"
            ]
          },
          "metadata": {}
        }
      ]
    },
    {
      "cell_type": "code",
      "source": [
        "# 이전에 생성해 둔 X와 y 데이터를 사용합니다.\n",
        "history = transformer_model.fit(\n",
        "    X,\n",
        "    y,\n",
        "    epochs=10,\n",
        "    batch_size=64,\n",
        "    validation_split=0.2 # 훈련 데이터의 20%를 검증용으로 사용\n",
        ")"
      ],
      "metadata": {
        "colab": {
          "base_uri": "https://localhost:8080/"
        },
        "id": "kdojcJak7aCU",
        "outputId": "09ba2d0c-eb0e-41b8-94b9-d7377b7cfaac"
      },
      "execution_count": null,
      "outputs": [
        {
          "output_type": "stream",
          "name": "stdout",
          "text": [
            "Epoch 1/10\n",
            "\u001b[1m1083/1083\u001b[0m \u001b[32m━━━━━━━━━━━━━━━━━━━━\u001b[0m\u001b[37m\u001b[0m \u001b[1m53s\u001b[0m 46ms/step - accuracy: 0.8882 - loss: 0.4518 - val_accuracy: 0.9148 - val_loss: 0.3120\n",
            "Epoch 2/10\n",
            "\u001b[1m1083/1083\u001b[0m \u001b[32m━━━━━━━━━━━━━━━━━━━━\u001b[0m\u001b[37m\u001b[0m \u001b[1m81s\u001b[0m 45ms/step - accuracy: 0.9150 - loss: 0.3142 - val_accuracy: 0.9165 - val_loss: 0.3121\n",
            "Epoch 3/10\n",
            "\u001b[1m1083/1083\u001b[0m \u001b[32m━━━━━━━━━━━━━━━━━━━━\u001b[0m\u001b[37m\u001b[0m \u001b[1m47s\u001b[0m 43ms/step - accuracy: 0.9164 - loss: 0.2982 - val_accuracy: 0.9136 - val_loss: 0.3056\n",
            "Epoch 4/10\n",
            "\u001b[1m1083/1083\u001b[0m \u001b[32m━━━━━━━━━━━━━━━━━━━━\u001b[0m\u001b[37m\u001b[0m \u001b[1m47s\u001b[0m 43ms/step - accuracy: 0.9146 - loss: 0.3000 - val_accuracy: 0.9151 - val_loss: 0.2945\n",
            "Epoch 5/10\n",
            "\u001b[1m1083/1083\u001b[0m \u001b[32m━━━━━━━━━━━━━━━━━━━━\u001b[0m\u001b[37m\u001b[0m \u001b[1m50s\u001b[0m 47ms/step - accuracy: 0.9169 - loss: 0.2889 - val_accuracy: 0.9161 - val_loss: 0.2944\n",
            "Epoch 6/10\n",
            "\u001b[1m1083/1083\u001b[0m \u001b[32m━━━━━━━━━━━━━━━━━━━━\u001b[0m\u001b[37m\u001b[0m \u001b[1m47s\u001b[0m 43ms/step - accuracy: 0.9170 - loss: 0.2907 - val_accuracy: 0.9170 - val_loss: 0.2920\n",
            "Epoch 7/10\n",
            "\u001b[1m1083/1083\u001b[0m \u001b[32m━━━━━━━━━━━━━━━━━━━━\u001b[0m\u001b[37m\u001b[0m \u001b[1m81s\u001b[0m 42ms/step - accuracy: 0.9174 - loss: 0.2889 - val_accuracy: 0.9174 - val_loss: 0.2903\n",
            "Epoch 8/10\n",
            "\u001b[1m1083/1083\u001b[0m \u001b[32m━━━━━━━━━━━━━━━━━━━━\u001b[0m\u001b[37m\u001b[0m \u001b[1m82s\u001b[0m 43ms/step - accuracy: 0.9180 - loss: 0.2814 - val_accuracy: 0.9164 - val_loss: 0.2941\n",
            "Epoch 9/10\n",
            "\u001b[1m1083/1083\u001b[0m \u001b[32m━━━━━━━━━━━━━━━━━━━━\u001b[0m\u001b[37m\u001b[0m \u001b[1m46s\u001b[0m 42ms/step - accuracy: 0.9174 - loss: 0.2858 - val_accuracy: 0.9159 - val_loss: 0.2929\n",
            "Epoch 10/10\n",
            "\u001b[1m1083/1083\u001b[0m \u001b[32m━━━━━━━━━━━━━━━━━━━━\u001b[0m\u001b[37m\u001b[0m \u001b[1m49s\u001b[0m 45ms/step - accuracy: 0.9173 - loss: 0.2792 - val_accuracy: 0.9160 - val_loss: 0.3016\n"
          ]
        }
      ]
    },
    {
      "cell_type": "code",
      "source": [
        "import numpy as np\n",
        "import matplotlib.pyplot as plt\n",
        "from sklearn.metrics import confusion_matrix, classification_report, precision_recall_curve\n",
        "\n",
        "# 1. 검증 데이터 준비\n",
        "split_point = int(len(X) * 0.8)\n",
        "X_val, y_val = X[split_point:], y[split_point:]\n",
        "\n",
        "# 2. '폐업' 클래스의 예측 확률만 추출\n",
        "y_pred_probs = transformer_model.predict(X_val)[:, closure_idx]\n",
        "\n",
        "# 3. Precision-Recall 커브 계산 및 시각화\n",
        "precisions, recalls, thresholds = precision_recall_curve(y_val == closure_idx, y_pred_probs)\n",
        "\n",
        "plt.figure(figsize=(10, 6))\n",
        "plt.plot(thresholds, precisions[:-1], \"b--\", label=\"Precision\")\n",
        "plt.plot(thresholds, recalls[:-1], \"g-\", label=\"Recall\")\n",
        "plt.xlabel(\"Threshold\")\n",
        "plt.legend()\n",
        "plt.title(\"Transformer Model: Precision-Recall vs. Threshold\")\n",
        "plt.grid(True)\n",
        "plt.show()\n",
        "\n",
        "# 4. F1-score가 최대가 되는 최적 임계값으로 최종 성능 확인\n",
        "f1_scores = 2 * recalls * precisions / (recalls + precisions + 1e-10)\n",
        "best_threshold = thresholds[np.argmax(f1_scores[:-1])]\n",
        "print(f\"최적 임계값 (Best F1-score): {best_threshold:.4f}\")\n",
        "\n",
        "final_pred = (y_pred_probs >= best_threshold).astype(int)\n",
        "print(\"\\n--- Transformer 모델 최종 성능 평가 ---\")\n",
        "print(classification_report(y_val == closure_idx, final_pred))"
      ],
      "metadata": {
        "colab": {
          "base_uri": "https://localhost:8080/",
          "height": 646
        },
        "id": "aPvIGGIP73YU",
        "outputId": "66dc05d2-9e1e-45ad-d423-af6ed280457d"
      },
      "execution_count": null,
      "outputs": [
        {
          "output_type": "stream",
          "name": "stdout",
          "text": [
            "\u001b[1m542/542\u001b[0m \u001b[32m━━━━━━━━━━━━━━━━━━━━\u001b[0m\u001b[37m\u001b[0m \u001b[1m3s\u001b[0m 6ms/step\n"
          ]
        },
        {
          "output_type": "display_data",
          "data": {
            "text/plain": [
              "<Figure size 1000x600 with 1 Axes>"
            ],
            "image/png": "[encoded data removed]"
          },
          "metadata": {}
        },
        {
          "output_type": "stream",
          "name": "stdout",
          "text": [
            "최적 임계값 (Best F1-score): 0.9019\n",
            "\n",
            "--- Transformer 모델 최종 성능 평가 ---\n",
            "              precision    recall  f1-score   support\n",
            "\n",
            "       False       1.00      1.00      1.00     17295\n",
            "        True       0.90      0.35      0.50        26\n",
            "\n",
            "    accuracy                           1.00     17321\n",
            "   macro avg       0.95      0.67      0.75     17321\n",
            "weighted avg       1.00      1.00      1.00     17321\n",
            "\n"
          ]
        }
      ]
    },
    {
      "cell_type": "markdown",
      "source": [
        "# 4. 처음 게 제일 좋앗다.. 다시..."
      ],
      "metadata": {
        "id": "9S9n2qs5AX1H"
      }
    },
    {
      "cell_type": "code",
      "source": [
        "# ==============================================================================\n",
        "# 이벤트 생성 함수 정의\n",
        "# ==============================================================================\n",
        "\n",
        "def generate_event(row):\n",
        "    events = []\n",
        "\n",
        "    # --- 범용 이벤트 (순위 변화 기준) ---\n",
        "    if row['rank_change'] > 5:\n",
        "        events.append('업종내순위_악화')\n",
        "    elif row['rank_change'] < -5:\n",
        "        events.append('업종내순위_개선')\n",
        "\n",
        "    # --- 핵심 위험 이벤트  ---\n",
        "    # C0: 정통 한식 - 핵심 고객층(40대 남성) 이탈\n",
        "    if row['cluster_id'] == 0 and row['male_40_ratio'] < 9.0:\n",
        "        events.append('C0_핵심고객_이탈')\n",
        "\n",
        "    # C2: 백반/가정식 - 초기 우위 상실 (순위 악화로 근사)\n",
        "    # district_sales_rank_ratio_deterioration_count는 집계 지표이므로, 월별 순위가 크게 악화되는 현상으로 대체\n",
        "    if row['cluster_id'] == 2 and row['district_rank_change'] > 15: # 15%p 이상 순위 악화 시\n",
        "        events.append('C2_초기우위_상실의심')\n",
        "\n",
        "    # C3: 소규모 분식 - 고객 구성 왜곡 (30대 남성 비중의 급격한 월별 증가로 근사)\n",
        "    # male_30_ratio_start_end_diff는 집계 지표이므로, 전달 대비 비중 급증으로 대체\n",
        "    if row['cluster_id'] == 3:\n",
        "        # 이 규칙을 위해서는 'male_30_ratio_change' 컬럼이 사전에 계산되어야 합니다.\n",
        "        # 예: df_merged['male_30_ratio_change'] = df_merged.groupby('store_id')['male_30_ratio'].diff()\n",
        "        # 만약 해당 컬럼이 있다면 아래 주석을 해제하세요.\n",
        "        # if row['male_30_ratio_change'] > 1.5:\n",
        "        #    events.append('C3_고객구성_왜곡')\n",
        "        # 대안: 30대 남성 비율이 비정상적으로 높은 경우\n",
        "        if row['male_30_ratio'] > 20.0: # (예시 임계값, 데이터 분포를 보고 조정 필요)\n",
        "            events.append('C3_고객구성_왜곡')\n",
        "\n",
        "    # C5: 소형 커피 - 초기 고객 확보 실패 및 단골 부재\n",
        "    if row['cluster_id'] == 5:\n",
        "        if row['month_order'] <= 3 and row['female_30_ratio'] < 14.0:\n",
        "            events.append('C5_초기핵심고객_부재')\n",
        "        if row['month_order'] > 6 and row['returning_customer_ratio'] < 25.0:\n",
        "            events.append('C5_단골확보_실패')\n",
        "\n",
        "    # C7: 대형 카페 - 내부 경쟁력 상실 의심\n",
        "    if row['cluster_id'] == 7 and row['industry_closure_ratio'] < 15.5:\n",
        "        events.append('C7_내부경쟁력_상실의심')\n",
        "\n",
        "    # C8: 마장동 시장 - 상권 환경 적응 실패 (상권 폐업률의 급격한 월별 감소로 근사)\n",
        "    # district_closure_ratio_start_end_diff는 집계 지표이므로, 전달 대비 변화량으로 대체\n",
        "    if row['cluster_id'] == 8:\n",
        "        # 이 규칙을 위해서는 'district_closure_ratio_change' 컬럼이 사전에 계산되어야 합니다.\n",
        "        # 예: df_merged['district_closure_ratio_change'] = df_merged.groupby('store_id')['district_closure_ratio'].diff()\n",
        "        # 만약 해당 컬럼이 있다면 아래 주석을 해제하세요.\n",
        "        # if row['district_closure_ratio_change'] < -0.5:\n",
        "        #    events.append('C8_상권적응_실패의심')\n",
        "        # 대안: 상권 폐업률이 매우 낮은데(안정적인데), 업종 내 순위가 악화될 경우\n",
        "        if row['district_closure_ratio'] < 5.0 and row['rank_change'] > 5:\n",
        "             events.append('C8_상권적응_실패의심')\n",
        "\n",
        "    # C9: 단일 양식당 - 비정상적 운영 변동성 (순위 변동폭으로 근사)\n",
        "    if row['cluster_id'] == 9 and abs(row['district_rank_change']) > 20: # 순위 변동폭이 20%p 이상일 때\n",
        "        events.append('C9_운영_변동성_과다')\n",
        "\n",
        "    # C10: 치킨/주류 - 장기 저항력 부족 (핵심 타겟 고객 설정 오류)\n",
        "    if row['cluster_id'] == 10 and row['male_20_under_ratio'] > 20.0:\n",
        "        events.append('C10_타겟고객_설정오류')\n",
        "\n",
        "    if not events:\n",
        "        return '일상'\n",
        "    else:\n",
        "        return '-'.join(sorted(events))\n"
      ],
      "metadata": {
        "id": "DiBlULnlAgzU"
      },
      "execution_count": null,
      "outputs": []
    },
    {
      "cell_type": "code",
      "source": [
        "# ==============================================================================\n",
        "# 함수 적용 및 최종 시퀀스 데이터셋 생성\n",
        "# ==============================================================================\n",
        "# 1. 이벤트 생성\n",
        "df_merged['event'] = df_merged.apply(generate_event, axis=1)\n",
        "\n",
        "# 2. 가맹점별 시퀀스 생성\n",
        "sequences = df_merged.groupby('store_id')['event'].apply(list).reset_index()\n",
        "sequences.rename(columns={'event': 'event_sequence'}, inplace=True)\n",
        "\n",
        "# 3. '폐업' 이벤트 추가\n",
        "# is_closed 컬럼을 사용해 폐업한 가맹점 목록을 만듭니다.\n",
        "closed_stores = set(df_merged[df_merged['is_closed'] == True]['store_id'])\n",
        "\n",
        "sequences['event_sequence'] = sequences.apply(\n",
        "    lambda row: row['event_sequence'] + ['폐업'] if row['store_id'] in closed_stores else row['event_sequence'],\n",
        "    axis=1\n",
        ")\n",
        "\n",
        "# 최종 결과 확인\n",
        "print(\"--- 최종 시퀀스 데이터셋 ---\")\n",
        "print(sequences.head())"
      ],
      "metadata": {
        "colab": {
          "base_uri": "https://localhost:8080/"
        },
        "outputId": "94ab3486-a69a-40a1-cdcf-b3f46fc7e626",
        "id": "zQXe_B3SAgzV"
      },
      "execution_count": null,
      "outputs": [
        {
          "output_type": "stream",
          "name": "stdout",
          "text": [
            "--- 최종 시퀀스 데이터셋 ---\n",
            "     store_id                                     event_sequence\n",
            "0  000F03E44A  [일상, 일상, 일상, 일상, 일상, 일상, 일상, 일상, 일상, 일상, 일상, 일...\n",
            "1  002816BA73  [일상, 일상, 일상, 일상, 일상, 일상, 일상, 일상, 일상, 일상, 일상, 일...\n",
            "2  003473B465  [일상, 일상, 일상, 일상, 일상, 일상, 일상, 일상, 일상, 일상, 일상, 일...\n",
            "3  003AC99735  [일상, 일상, 일상, C5_초기핵심고객_부재, 일상, 일상, 일상, 일상, 일상,...\n",
            "4  0041E4E5AE  [일상, 일상, 일상, 일상, 일상, 일상, 일상, 일상, 일상, 일상, 일상, 일...\n"
          ]
        }
      ]
    },
    {
      "cell_type": "code",
      "source": [
        "import tensorflow as tf\n",
        "from tensorflow.keras.preprocessing.sequence import pad_sequences\n",
        "\n",
        "# 1. 모든 이벤트를 모아 고유한 이벤트 사전을 만듭니다.\n",
        "all_events = set(event for seq in sequences['event_sequence'] for event in seq)\n",
        "event2idx = {event: i + 1 for i, event in enumerate(all_events)} # 0은 패딩을 위해 남겨둠\n",
        "idx2event = {i + 1: event for i, event in enumerate(all_events)}\n",
        "\n",
        "# '폐업' 이벤트의 번호를 따로 저장해 둡니다.\n",
        "closure_idx = event2idx['폐업']\n",
        "vocab_size = len(event2idx) + 1 # 패딩 포함한 전체 사전 크기\n",
        "\n",
        "# 2. 모든 시퀀스를 정수(Integer)로 변환합니다.\n",
        "encoded_sequences = [\n",
        "    [event2idx[event] for event in seq]\n",
        "    for seq in sequences['event_sequence']\n",
        "]\n",
        "\n",
        "# 3. 모든 시퀀스의 길이를 통일합니다 (Padding).\n",
        "max_len = max(len(seq) for seq in encoded_sequences)\n",
        "padded_sequences = pad_sequences(encoded_sequences, maxlen=max_len, padding='pre')\n",
        "\n",
        "print(\"--- 정수 인코딩 및 패딩 완료 ---\")\n",
        "print(\"원본 시퀀스:\", encoded_sequences[1])\n",
        "print(\"패딩된 시퀀스:\", padded_sequences[1])"
      ],
      "metadata": {
        "colab": {
          "base_uri": "https://localhost:8080/"
        },
        "outputId": "92ee0438-29fd-46f4-ec0d-666dab447c2d",
        "id": "8RkwIHS0AgzV"
      },
      "execution_count": null,
      "outputs": [
        {
          "output_type": "stream",
          "name": "stdout",
          "text": [
            "--- 정수 인코딩 및 패딩 완료 ---\n",
            "원본 시퀀스: [15, 15, 15, 15, 15, 15, 15, 15, 15, 15, 15, 15, 15, 15, 15, 15, 15, 15, 15, 15, 15, 15, 15, 15]\n",
            "패딩된 시퀀스: [ 0 15 15 15 15 15 15 15 15 15 15 15 15 15 15 15 15 15 15 15 15 15 15 15\n",
            " 15]\n"
          ]
        }
      ]
    },
    {
      "cell_type": "code",
      "source": [
        "import numpy as np\n",
        "\n",
        "X = [] # 모델에 들어갈 입력 데이터\n",
        "y = [] # 모델이 맞춰야 할 정답 데이터\n",
        "\n",
        "for seq in padded_sequences:\n",
        "    for i in range(1, len(seq)):\n",
        "        # 0이 아닌 부분까지만 학습 데이터를 생성\n",
        "        if seq[i] == 0:\n",
        "            continue\n",
        "        X.append(seq[:i])\n",
        "        y.append(seq[i])\n",
        "\n",
        "X = pad_sequences(X, maxlen=max_len, padding='pre')\n",
        "y = np.array(y)\n",
        "\n",
        "print(\"\\n--- 학습 데이터셋 생성 ---\")\n",
        "print(\"입력 데이터 예시 (X):\", X[-3:])\n",
        "print(\"정답 데이터 예시 (y):\", y[-3:])"
      ],
      "metadata": {
        "colab": {
          "base_uri": "https://localhost:8080/"
        },
        "outputId": "af38049d-7168-4f0c-b9cc-d02873f7ae91",
        "id": "IthME8p-AgzV"
      },
      "execution_count": null,
      "outputs": [
        {
          "output_type": "stream",
          "name": "stdout",
          "text": [
            "\n",
            "--- 학습 데이터셋 생성 ---\n",
            "입력 데이터 예시 (X): [[ 0  0  0  0 15 15 15 15 15 15 15 15 15 15 15 15 15 15 15 15 15 15 15 15\n",
            "  15]\n",
            " [ 0  0  0 15 15 15 15 15 15 15 15 15 15 15 15 15 15 15 15 15 15 15 15 15\n",
            "  15]\n",
            " [ 0  0 15 15 15 15 15 15 15 15 15 15 15 15 15 15 15 15 15 15 15 15 15 15\n",
            "  15]]\n",
            "정답 데이터 예시 (y): [15 15 15]\n"
          ]
        }
      ]
    },
    {
      "cell_type": "code",
      "source": [
        "import tensorflow as tf\n",
        "from tensorflow.keras.models import Sequential\n",
        "from tensorflow.keras.layers import Embedding, GRU, Dense\n",
        "\n",
        "# ==============================================================================\n",
        "# 모델 정의\n",
        "# ==============================================================================\n",
        "# 모델의 각 층(Layer)을 순서대로 쌓아 만듭니다.\n",
        "\n",
        "model = Sequential([\n",
        "    # 1. Embedding Layer\n",
        "    # 단어(이벤트)를 벡터로 변환하는 층입니다.\n",
        "    # 모델이 이벤트 간의 의미적 관계를 학습하는 공간입니다.\n",
        "    # input_dim: 전체 이벤트의 개수 (패딩 포함)\n",
        "    # output_dim: 각 단어를 몇 차원의 벡터로 표현할지 (보통 64, 128 등)\n",
        "    # input_length: 입력 시퀀스의 길이\n",
        "    Embedding(input_dim=vocab_size, output_dim=64, input_length=max_len),\n",
        "\n",
        "    # 2. GRU Layer (Recurrent Neural Network)\n",
        "    # 시퀀스 데이터의 시간적 패턴(순서)을 학습하는 핵심 층입니다.\n",
        "    # units: GRU 레이어의 뉴런 수\n",
        "    GRU(units=128),\n",
        "\n",
        "    # 3. Dense Layer (Output Layer)\n",
        "    # GRU에서 처리된 결과를 바탕으로 최종 예측을 수행합니다.\n",
        "    # units: vocab_size -> 예측해야 할 이벤트의 총 개수\n",
        "    # activation='softmax': 모든 이벤트에 대한 확률을 출력하여, 총합이 1이 되도록 만듭니다.\n",
        "    Dense(units=vocab_size, activation='softmax')\n",
        "])\n",
        "\n",
        "\n",
        "# ==============================================================================\n",
        "# 모델 컴파일\n",
        "# ==============================================================================\n",
        "# 모델을 어떻게 학습시킬지 설정합니다.\n",
        "model.compile(\n",
        "    optimizer='adam',  # 가장 일반적으로 사용되는 최적화 알고리즘\n",
        "    loss='sparse_categorical_crossentropy', # 정수 형태의 정답(y)을 다룰 때 사용하는 손실 함수\n",
        "    metrics=['accuracy'] # 학습 과정을 평가할 지표\n",
        ")\n",
        "\n",
        "# 모델의 전체 구조를 확인합니다.\n",
        "model.summary()"
      ],
      "metadata": {
        "colab": {
          "base_uri": "https://localhost:8080/",
          "height": 295
        },
        "outputId": "044dfa9f-e89f-4f00-8836-f734a5887a02",
        "id": "ssY09zLnAgzV"
      },
      "execution_count": null,
      "outputs": [
        {
          "output_type": "stream",
          "name": "stderr",
          "text": [
            "/usr/local/lib/python3.12/dist-packages/keras/src/layers/core/embedding.py:97: UserWarning: Argument `input_length` is deprecated. Just remove it.\n",
            "  warnings.warn(\n"
          ]
        },
        {
          "output_type": "display_data",
          "data": {
            "text/plain": [
              "\u001b[1mModel: \"sequential_4\"\u001b[0m\n"
            ],
            "text/html": [
              "<pre style=\"white-space:pre;overflow-x:auto;line-height:normal;font-family:Menlo,'DejaVu Sans Mono',consolas,'Courier New',monospace\"><span style=\"font-weight: bold\">Model: \"sequential_4\"</span>\n",
              "</pre>\n"
            ]
          },
          "metadata": {}
        },
        {
          "output_type": "display_data",
          "data": {
            "text/plain": [
              "┏━━━━━━━━━━━━━━━━━━━━━━━━━━━━━━━━━┳━━━━━━━━━━━━━━━━━━━━━━━━┳━━━━━━━━━━━━━━━┓\n",
              "┃\u001b[1m \u001b[0m\u001b[1mLayer (type)                   \u001b[0m\u001b[1m \u001b[0m┃\u001b[1m \u001b[0m\u001b[1mOutput Shape          \u001b[0m\u001b[1m \u001b[0m┃\u001b[1m \u001b[0m\u001b[1m      Param #\u001b[0m\u001b[1m \u001b[0m┃\n",
              "┡━━━━━━━━━━━━━━━━━━━━━━━━━━━━━━━━━╇━━━━━━━━━━━━━━━━━━━━━━━━╇━━━━━━━━━━━━━━━┩\n",
              "│ embedding_4 (\u001b[38;5;33mEmbedding\u001b[0m)         │ ?                      │   \u001b[38;5;34m0\u001b[0m (unbuilt) │\n",
              "├─────────────────────────────────┼────────────────────────┼───────────────┤\n",
              "│ gru_1 (\u001b[38;5;33mGRU\u001b[0m)                     │ ?                      │   \u001b[38;5;34m0\u001b[0m (unbuilt) │\n",
              "├─────────────────────────────────┼────────────────────────┼───────────────┤\n",
              "│ dense_10 (\u001b[38;5;33mDense\u001b[0m)                │ ?                      │   \u001b[38;5;34m0\u001b[0m (unbuilt) │\n",
              "└─────────────────────────────────┴────────────────────────┴───────────────┘\n"
            ],
            "text/html": [
              "<pre style=\"white-space:pre;overflow-x:auto;line-height:normal;font-family:Menlo,'DejaVu Sans Mono',consolas,'Courier New',monospace\">┏━━━━━━━━━━━━━━━━━━━━━━━━━━━━━━━━━┳━━━━━━━━━━━━━━━━━━━━━━━━┳━━━━━━━━━━━━━━━┓\n",
              "┃<span style=\"font-weight: bold\"> Layer (type)                    </span>┃<span style=\"font-weight: bold\"> Output Shape           </span>┃<span style=\"font-weight: bold\">       Param # </span>┃\n",
              "┡━━━━━━━━━━━━━━━━━━━━━━━━━━━━━━━━━╇━━━━━━━━━━━━━━━━━━━━━━━━╇━━━━━━━━━━━━━━━┩\n",
              "│ embedding_4 (<span style=\"color: #0087ff; text-decoration-color: #0087ff\">Embedding</span>)         │ ?                      │   <span style=\"color: #00af00; text-decoration-color: #00af00\">0</span> (unbuilt) │\n",
              "├─────────────────────────────────┼────────────────────────┼───────────────┤\n",
              "│ gru_1 (<span style=\"color: #0087ff; text-decoration-color: #0087ff\">GRU</span>)                     │ ?                      │   <span style=\"color: #00af00; text-decoration-color: #00af00\">0</span> (unbuilt) │\n",
              "├─────────────────────────────────┼────────────────────────┼───────────────┤\n",
              "│ dense_10 (<span style=\"color: #0087ff; text-decoration-color: #0087ff\">Dense</span>)                │ ?                      │   <span style=\"color: #00af00; text-decoration-color: #00af00\">0</span> (unbuilt) │\n",
              "└─────────────────────────────────┴────────────────────────┴───────────────┘\n",
              "</pre>\n"
            ]
          },
          "metadata": {}
        },
        {
          "output_type": "display_data",
          "data": {
            "text/plain": [
              "\u001b[1m Total params: \u001b[0m\u001b[38;5;34m0\u001b[0m (0.00 B)\n"
            ],
            "text/html": [
              "<pre style=\"white-space:pre;overflow-x:auto;line-height:normal;font-family:Menlo,'DejaVu Sans Mono',consolas,'Courier New',monospace\"><span style=\"font-weight: bold\"> Total params: </span><span style=\"color: #00af00; text-decoration-color: #00af00\">0</span> (0.00 B)\n",
              "</pre>\n"
            ]
          },
          "metadata": {}
        },
        {
          "output_type": "display_data",
          "data": {
            "text/plain": [
              "\u001b[1m Trainable params: \u001b[0m\u001b[38;5;34m0\u001b[0m (0.00 B)\n"
            ],
            "text/html": [
              "<pre style=\"white-space:pre;overflow-x:auto;line-height:normal;font-family:Menlo,'DejaVu Sans Mono',consolas,'Courier New',monospace\"><span style=\"font-weight: bold\"> Trainable params: </span><span style=\"color: #00af00; text-decoration-color: #00af00\">0</span> (0.00 B)\n",
              "</pre>\n"
            ]
          },
          "metadata": {}
        },
        {
          "output_type": "display_data",
          "data": {
            "text/plain": [
              "\u001b[1m Non-trainable params: \u001b[0m\u001b[38;5;34m0\u001b[0m (0.00 B)\n"
            ],
            "text/html": [
              "<pre style=\"white-space:pre;overflow-x:auto;line-height:normal;font-family:Menlo,'DejaVu Sans Mono',consolas,'Courier New',monospace\"><span style=\"font-weight: bold\"> Non-trainable params: </span><span style=\"color: #00af00; text-decoration-color: #00af00\">0</span> (0.00 B)\n",
              "</pre>\n"
            ]
          },
          "metadata": {}
        }
      ]
    },
    {
      "cell_type": "code",
      "source": [
        "# ==============================================================================\n",
        "# 모델 학습\n",
        "# ==============================================================================\n",
        "# epochs: 전체 데이터셋을 몇 번 반복해서 학습할지\n",
        "# batch_size: 한 번에 몇 개의 데이터를 묶어서 처리할지\n",
        "history = model.fit(\n",
        "    X,\n",
        "    y,\n",
        "    epochs=10,\n",
        "    batch_size=64,\n",
        "    validation_split=0.2 # 데이터의 20%를 검증용으로 사용\n",
        ")\n",
        "\n",
        "# 이제 'model'은 학습이 완료된 상태입니다.\n",
        "# 이 모델을 사용하여 이전 단계에서 설명한 것처럼 '폐업 위험도'를 예측할 수 있습니다."
      ],
      "metadata": {
        "colab": {
          "base_uri": "https://localhost:8080/"
        },
        "outputId": "cc7b4def-a5bb-460d-b97f-c3e98d55463b",
        "id": "XsJN60YWAgzV"
      },
      "execution_count": null,
      "outputs": [
        {
          "output_type": "stream",
          "name": "stdout",
          "text": [
            "Epoch 1/10\n",
            "\u001b[1m1083/1083\u001b[0m \u001b[32m━━━━━━━━━━━━━━━━━━━━\u001b[0m\u001b[37m\u001b[0m \u001b[1m39s\u001b[0m 35ms/step - accuracy: 0.9006 - loss: 0.5200 - val_accuracy: 0.9243 - val_loss: 0.2996\n",
            "Epoch 2/10\n",
            "\u001b[1m1083/1083\u001b[0m \u001b[32m━━━━━━━━━━━━━━━━━━━━\u001b[0m\u001b[37m\u001b[0m \u001b[1m35s\u001b[0m 32ms/step - accuracy: 0.9250 - loss: 0.2897 - val_accuracy: 0.9256 - val_loss: 0.2880\n",
            "Epoch 3/10\n",
            "\u001b[1m1083/1083\u001b[0m \u001b[32m━━━━━━━━━━━━━━━━━━━━\u001b[0m\u001b[37m\u001b[0m \u001b[1m37s\u001b[0m 34ms/step - accuracy: 0.9257 - loss: 0.2759 - val_accuracy: 0.9268 - val_loss: 0.2804\n",
            "Epoch 4/10\n",
            "\u001b[1m1083/1083\u001b[0m \u001b[32m━━━━━━━━━━━━━━━━━━━━\u001b[0m\u001b[37m\u001b[0m \u001b[1m36s\u001b[0m 33ms/step - accuracy: 0.9267 - loss: 0.2689 - val_accuracy: 0.9266 - val_loss: 0.2738\n",
            "Epoch 5/10\n",
            "\u001b[1m1083/1083\u001b[0m \u001b[32m━━━━━━━━━━━━━━━━━━━━\u001b[0m\u001b[37m\u001b[0m \u001b[1m41s\u001b[0m 33ms/step - accuracy: 0.9284 - loss: 0.2649 - val_accuracy: 0.9275 - val_loss: 0.2698\n",
            "Epoch 6/10\n",
            "\u001b[1m1083/1083\u001b[0m \u001b[32m━━━━━━━━━━━━━━━━━━━━\u001b[0m\u001b[37m\u001b[0m \u001b[1m36s\u001b[0m 33ms/step - accuracy: 0.9298 - loss: 0.2614 - val_accuracy: 0.9265 - val_loss: 0.2707\n",
            "Epoch 7/10\n",
            "\u001b[1m1083/1083\u001b[0m \u001b[32m━━━━━━━━━━━━━━━━━━━━\u001b[0m\u001b[37m\u001b[0m \u001b[1m36s\u001b[0m 33ms/step - accuracy: 0.9263 - loss: 0.2666 - val_accuracy: 0.9273 - val_loss: 0.2691\n",
            "Epoch 8/10\n",
            "\u001b[1m1083/1083\u001b[0m \u001b[32m━━━━━━━━━━━━━━━━━━━━\u001b[0m\u001b[37m\u001b[0m \u001b[1m41s\u001b[0m 33ms/step - accuracy: 0.9295 - loss: 0.2577 - val_accuracy: 0.9273 - val_loss: 0.2668\n",
            "Epoch 9/10\n",
            "\u001b[1m1083/1083\u001b[0m \u001b[32m━━━━━━━━━━━━━━━━━━━━\u001b[0m\u001b[37m\u001b[0m \u001b[1m36s\u001b[0m 33ms/step - accuracy: 0.9285 - loss: 0.2597 - val_accuracy: 0.9275 - val_loss: 0.2717\n",
            "Epoch 10/10\n",
            "\u001b[1m1083/1083\u001b[0m \u001b[32m━━━━━━━━━━━━━━━━━━━━\u001b[0m\u001b[37m\u001b[0m \u001b[1m36s\u001b[0m 33ms/step - accuracy: 0.9294 - loss: 0.2517 - val_accuracy: 0.9274 - val_loss: 0.2671\n"
          ]
        }
      ]
    },
    {
      "cell_type": "code",
      "source": [
        "import numpy as np\n",
        "import matplotlib.pyplot as plt\n",
        "from sklearn.metrics import confusion_matrix, classification_report, precision_recall_curve\n",
        "\n",
        "# 1. 검증 데이터 준비\n",
        "split_point = int(len(X) * 0.8)\n",
        "X_val, y_val = X[split_point:], y[split_point:]\n",
        "\n",
        "# 2. '폐업' 클래스의 예측 확률만 추출\n",
        "y_pred_probs = model.predict(X_val)[:, closure_idx]\n",
        "\n",
        "# 3. Precision-Recall 커브 계산 및 시각화\n",
        "precisions, recalls, thresholds = precision_recall_curve(y_val == closure_idx, y_pred_probs)\n",
        "\n",
        "plt.figure(figsize=(10, 6))\n",
        "plt.plot(thresholds, precisions[:-1], \"b--\", label=\"Precision\")\n",
        "plt.plot(thresholds, recalls[:-1], \"g-\", label=\"Recall\")\n",
        "plt.xlabel(\"Threshold\")\n",
        "plt.legend()\n",
        "plt.title(\"GRU Model: Precision-Recall vs. Threshold\")\n",
        "plt.grid(True)\n",
        "plt.show()\n",
        "\n",
        "# 4. F1-score가 최대가 되는 최적 임계값으로 최종 성능 확인\n",
        "f1_scores = 2 * recalls * precisions / (recalls + precisions + 1e-10)\n",
        "best_threshold = thresholds[np.argmax(f1_scores[:-1])]\n",
        "print(f\"최적 임계값 (Best F1-score): {best_threshold:.4f}\")\n",
        "\n",
        "final_pred = (y_pred_probs >= best_threshold).astype(int)\n",
        "print(\"\\n--- Transformer 모델 최종 성능 평가 ---\")\n",
        "print(classification_report(y_val == closure_idx, final_pred))"
      ],
      "metadata": {
        "colab": {
          "base_uri": "https://localhost:8080/",
          "height": 823
        },
        "outputId": "16826ea1-66ea-4d6d-f08d-35f782943506",
        "id": "4wbzjBgQAgzV"
      },
      "execution_count": null,
      "outputs": [
        {
          "output_type": "stream",
          "name": "stdout",
          "text": [
            "\u001b[1m542/542\u001b[0m \u001b[32m━━━━━━━━━━━━━━━━━━━━\u001b[0m\u001b[37m\u001b[0m \u001b[1m3s\u001b[0m 6ms/step\n"
          ]
        },
        {
          "output_type": "display_data",
          "data": {
            "text/plain": [
              "<Figure size 1000x600 with 1 Axes>"
            ],
            "image/png": "[encoded data removed]"
          },
          "metadata": {}
        },
        {
          "output_type": "stream",
          "name": "stdout",
          "text": [
            "최적 임계값 (Best F1-score): 0.4313\n",
            "\n",
            "--- Transformer 모델 최종 성능 평가 ---\n",
            "              precision    recall  f1-score   support\n",
            "\n",
            "       False       1.00      1.00      1.00     17295\n",
            "        True       1.00      0.42      0.59        26\n",
            "\n",
            "    accuracy                           1.00     17321\n",
            "   macro avg       1.00      0.71      0.80     17321\n",
            "weighted avg       1.00      1.00      1.00     17321\n",
            "\n"
          ]
        }
      ]
    },
    {
      "cell_type": "code",
      "source": [
        "# '위기'로 간주할 이벤트들을 정의합니다.\n",
        "crisis_events = {\n",
        "    '폐업',\n",
        "    '업종내순위_대폭악화',\n",
        "    '상권내순위_대폭악화',\n",
        "    'C0_핵심고객_이탈',\n",
        "    'C2_초기우위_상실의심',\n",
        "    'C3_고객구성_왜곡',\n",
        "    'C5_단골확보_실패',\n",
        "    'C7_내부역량_부족의심',\n",
        "    'C9_운영_변동성_과다',\n",
        "    'C10_타겟고객_설정오류'\n",
        "\n",
        "}\n",
        "\n",
        "# 정의한 위기 이벤트들의 숫자 인덱스를 미리 찾아둡니다.\n",
        "crisis_indices = {event2idx[e] for e in crisis_events if e in event2idx}"
      ],
      "metadata": {
        "id": "CPALatGv748y"
      },
      "execution_count": null,
      "outputs": []
    },
    {
      "cell_type": "code",
      "source": [
        "def predict_crisis_risk(store_sequence_str, model, event2idx, max_len, crisis_indices):\n",
        "    \"\"\"\n",
        "    가맹점의 시퀀스를 입력받아,\n",
        "    다음 달에 '위기 이벤트'가 발생할 종합 확률을 반환합니다.\n",
        "    \"\"\"\n",
        "    # 1, 2, 3단계는 이전과 동일 (인코딩, 패딩, 예측)\n",
        "    encoded_sequence = [event2idx.get(event, 0) for event in store_sequence_str]\n",
        "    padded_sequence = pad_sequences([encoded_sequence], maxlen=max_len, padding='pre')\n",
        "    prediction_probabilities = model.predict(padded_sequence, verbose=0)[0]\n",
        "\n",
        "    # 4. '위기 이벤트'들의 확률을 모두 더합니다.\n",
        "    total_crisis_score = sum(prediction_probabilities[idx] for idx in crisis_indices)\n",
        "\n",
        "    return total_crisis_score\n",
        "\n",
        "# --- 실행 예시 ---\n",
        "target_store_index = 3939\n",
        "sequence_to_predict = sequences.loc[target_store_index, 'event_sequence']\n",
        "store_id_to_predict = sequences.loc[target_store_index, 'store_id']\n",
        "\n",
        "print(f\"--- 분석 대상 가맹점 [{store_id_to_predict}] ---\")\n",
        "print(\"이벤트 시퀀스:\", sequence_to_predict)\n",
        "\n",
        "# 3. 'predict_crisis_risk' 함수에 실제 시퀀스를 넣어 위험도를 계산합니다.\n",
        "risk = predict_crisis_risk(sequence_to_predict, model, event2idx, max_len, crisis_indices)\n",
        "\n",
        "print(f\"\\n>>> 해당 가맹점의 다음 달 '위기' 발생 종합 확률: {risk * 100:.2f}%\")"
      ],
      "metadata": {
        "colab": {
          "base_uri": "https://localhost:8080/"
        },
        "id": "6Uw-XxcgC2Ou",
        "outputId": "2f44ad96-6dfa-4cb6-a969-f8406bdfb1b4"
      },
      "execution_count": null,
      "outputs": [
        {
          "output_type": "stream",
          "name": "stdout",
          "text": [
            "--- 분석 대상 가맹점 [F12638FC09] ---\n",
            "이벤트 시퀀스: ['일상', '업종내순위_개선', '업종내순위_개선', '업종내순위_개선', '일상', '일상', '일상', '일상', '일상', '일상', '일상', '일상', '일상']\n",
            "\n",
            ">>> 해당 가맹점의 다음 달 '위기' 발생 종합 확률: 0.19%\n"
          ]
        }
      ]
    },
    {
      "cell_type": "code",
      "source": [
        "# '폐업' 이벤트가 포함된 시퀀스들만 추출\n",
        "closed_sequences_df = sequences[sequences['event_sequence'].apply(lambda x: '폐업' in x)]\n",
        "\n",
        "# 각 시퀀스에서 '일상'이 차지하는 비율을 계산\n",
        "closed_sequences_df['일상_비율'] = closed_sequences_df['event_sequence'].apply(\n",
        "    lambda x: x.count('일상') / (len(x) - 1) # 폐업 제외\n",
        ")\n",
        "\n",
        "# '일상' 비율이 매우 높은 (예: 90% 이상) 폐업 가맹점들을 확인\n",
        "print(closed_sequences_df[closed_sequences_df['일상_비율'] >= 0.9])"
      ],
      "metadata": {
        "colab": {
          "base_uri": "https://localhost:8080/"
        },
        "id": "eub9_eMcDWSF",
        "outputId": "74dad5e8-5451-4c61-fb21-08b0d1360902"
      },
      "execution_count": null,
      "outputs": [
        {
          "output_type": "stream",
          "name": "stdout",
          "text": [
            "        store_id                                     event_sequence     일상_비율\n",
            "127   08336C3B85  [일상, 일상, 일상, 일상, 일상, 일상, 일상, 일상, 일상, 일상, 일상, 일...  1.000000\n",
            "153   099CBF2425                               [일상, 일상, 일상, 일상, 폐업]  1.000000\n",
            "157   09B5A19D91  [일상, 일상, 일상, 일상, 일상, 일상, 일상, 일상, 일상, 일상, 일상, 일...  1.000000\n",
            "341   150889572A  [일상, 일상, 일상, 일상, 일상, 일상, 일상, 일상, 일상, 일상, 일상, 일...  0.916667\n",
            "419   19DC3A560D  [일상, 일상, 일상, 일상, 일상, 일상, 일상, 일상, 일상, 일상, 일상, 일...  0.958333\n",
            "...          ...                                                ...       ...\n",
            "3884  EDDF492971  [일상, 일상, 일상, 일상, 일상, 일상, 일상, 일상, 일상, 일상, 일상, 일...  1.000000\n",
            "3967  F27FC18E41  [일상, 일상, 일상, 일상, 일상, 일상, 일상, 일상, 일상, 일상, 일상, 일...  0.958333\n",
            "4011  F5A4D98110  [일상, 일상, 일상, 일상, 일상, 일상, 일상, 일상, 일상, 일상, 일상, 일...  1.000000\n",
            "4040  F7AB2719E7  [일상, 일상, 일상, 일상, 업종내순위_악화, 일상, 일상, 일상, 일상, 일상,...  0.958333\n",
            "4149  FE30B6645E                                   [일상, 일상, 일상, 폐업]  1.000000\n",
            "\n",
            "[69 rows x 3 columns]\n"
          ]
        },
        {
          "output_type": "stream",
          "name": "stderr",
          "text": [
            "/tmp/ipython-input-4120421451.py:5: SettingWithCopyWarning: \n",
            "A value is trying to be set on a copy of a slice from a DataFrame.\n",
            "Try using .loc[row_indexer,col_indexer] = value instead\n",
            "\n",
            "See the caveats in the documentation: https://pandas.pydata.org/pandas-docs/stable/user_guide/indexing.html#returning-a-view-versus-a-copy\n",
            "  closed_sequences_df['일상_비율'] = closed_sequences_df['event_sequence'].apply(\n"
          ]
        }
      ]
    },
    {
      "cell_type": "markdown",
      "source": [
        "- 시퀀스 데이터에 클러스터 넣고, 그 다음에 긍정 이벤트 넣기...?"
      ],
      "metadata": {
        "id": "HJ03KgUwFLh8"
      }
    },
    {
      "cell_type": "markdown",
      "source": [
        "# 5. 생존 이벤트 추가 => 망함"
      ],
      "metadata": {
        "id": "sTdDJXR4H9ZJ"
      }
    },
    {
      "cell_type": "code",
      "source": [],
      "metadata": {
        "id": "nPLxqqL4IfSR"
      },
      "execution_count": null,
      "outputs": []
    },
    {
      "cell_type": "code",
      "source": [
        "# ==============================================================================\n",
        "# 이벤트 생성 함수 정의\n",
        "# ==============================================================================\n",
        "\n",
        "def generate_event(row):\n",
        "    events = []\n",
        "\n",
        "    # --- 범용 이벤트 (순위 변화 기준) ---\n",
        "    if row['rank_change'] > 5:\n",
        "        events.append('업종내순위_악화')\n",
        "    elif row['rank_change'] < -5:\n",
        "        events.append('업종내순위_개선')\n",
        "\n",
        "    # --- 핵심 위험 이벤트  ---\n",
        "    # C0: 정통 한식 - 핵심 고객층(40대 남성) 이탈\n",
        "    if row['cluster_id'] == 0 and row['male_40_ratio'] < 9.0:\n",
        "        events.append('C0_핵심고객_이탈')\n",
        "\n",
        "    # C2: 백반/가정식 - 초기 우위 상실 (순위 악화로 근사)\n",
        "    # district_sales_rank_ratio_deterioration_count는 집계 지표이므로, 월별 순위가 크게 악화되는 현상으로 대체\n",
        "    if row['cluster_id'] == 2 and row['district_rank_change'] > 15: # 15%p 이상 순위 악화 시\n",
        "        events.append('C2_초기우위_상실의심')\n",
        "\n",
        "    # C3: 소규모 분식 - 고객 구성 왜곡 (30대 남성 비중의 급격한 월별 증가로 근사)\n",
        "    # male_30_ratio_start_end_diff는 집계 지표이므로, 전달 대비 비중 급증으로 대체\n",
        "    if row['cluster_id'] == 3:\n",
        "        # 이 규칙을 위해서는 'male_30_ratio_change' 컬럼이 사전에 계산되어야 합니다.\n",
        "        # 예: df_merged['male_30_ratio_change'] = df_merged.groupby('store_id')['male_30_ratio'].diff()\n",
        "        # 만약 해당 컬럼이 있다면 아래 주석을 해제하세요.\n",
        "        # if row['male_30_ratio_change'] > 1.5:\n",
        "        #    events.append('C3_고객구성_왜곡')\n",
        "        # 대안: 30대 남성 비율이 비정상적으로 높은 경우\n",
        "        if row['male_30_ratio'] > 20.0: # (예시 임계값, 데이터 분포를 보고 조정 필요)\n",
        "            events.append('C3_고객구성_왜곡')\n",
        "\n",
        "    # C5: 소형 커피 - 초기 고객 확보 실패 및 단골 부재\n",
        "    if row['cluster_id'] == 5:\n",
        "        if row['month_order'] <= 3 and row['female_30_ratio'] < 14.0:\n",
        "            events.append('C5_초기핵심고객_부재')\n",
        "        if row['month_order'] > 6 and row['returning_customer_ratio'] < 25.0:\n",
        "            events.append('C5_단골확보_실패')\n",
        "\n",
        "    # C7: 대형 카페 - 내부 경쟁력 상실 의심\n",
        "    if row['cluster_id'] == 7 and row['industry_closure_ratio'] < 15.5:\n",
        "        events.append('C7_내부경쟁력_상실의심')\n",
        "\n",
        "    # C8: 마장동 시장 - 상권 환경 적응 실패 (상권 폐업률의 급격한 월별 감소로 근사)\n",
        "    # district_closure_ratio_start_end_diff는 집계 지표이므로, 전달 대비 변화량으로 대체\n",
        "    if row['cluster_id'] == 8:\n",
        "        # 이 규칙을 위해서는 'district_closure_ratio_change' 컬럼이 사전에 계산되어야 합니다.\n",
        "        # 예: df_merged['district_closure_ratio_change'] = df_merged.groupby('store_id')['district_closure_ratio'].diff()\n",
        "        # 만약 해당 컬럼이 있다면 아래 주석을 해제하세요.\n",
        "        # if row['district_closure_ratio_change'] < -0.5:\n",
        "        #    events.append('C8_상권적응_실패의심')\n",
        "        # 대안: 상권 폐업률이 매우 낮은데(안정적인데), 업종 내 순위가 악화될 경우\n",
        "        if row['district_closure_ratio'] < 5.0 and row['rank_change'] > 5:\n",
        "             events.append('C8_상권적응_실패의심')\n",
        "\n",
        "    # C9: 단일 양식당 - 비정상적 운영 변동성 (순위 변동폭으로 근사)\n",
        "    if row['cluster_id'] == 9 and abs(row['district_rank_change']) > 20: # 순위 변동폭이 20%p 이상일 때\n",
        "        events.append('C9_운영_변동성_과다')\n",
        "\n",
        "    # C10: 치킨/주류 - 장기 저항력 부족 (핵심 타겟 고객 설정 오류)\n",
        "    if row['cluster_id'] == 10 and row['male_20_under_ratio'] > 20.0:\n",
        "        events.append('C10_타겟고객_설정오류')\n",
        "\n",
        "    if not events:\n",
        "        return '일상'\n",
        "    else:\n",
        "        return '-'.join(sorted(events))\n"
      ],
      "metadata": {
        "id": "MDxEUpa-PDqi"
      },
      "execution_count": null,
      "outputs": []
    },
    {
      "cell_type": "code",
      "source": [
        "# ==============================================================================\n",
        "# 함수 적용 및 최종 시퀀스 데이터셋 생성\n",
        "# ==============================================================================\n",
        "# 1. 이벤트 생성\n",
        "df_merged['event'] = df_merged.apply(generate_event, axis=1)\n",
        "\n",
        "# 2. 가맹점별 시퀀스 생성\n",
        "sequences = df_merged.groupby('store_id')['event'].apply(list).reset_index()\n",
        "sequences.rename(columns={'event': 'event_sequence'}, inplace=True)\n",
        "\n",
        "# 3. '폐업' 이벤트 추가\n",
        "# is_closed 컬럼을 사용해 폐업한 가맹점 목록을 만듭니다.\n",
        "closed_stores = set(df_merged[df_merged['is_closed'] == True]['store_id'])\n",
        "\n",
        "sequences['event_sequence'] = sequences.apply(\n",
        "    lambda row: row['event_sequence'] + ['폐업'] if row['store_id'] in closed_stores else row['event_sequence'] + ['생존'],\n",
        "    axis=1\n",
        ")\n",
        "\n",
        "# 최종 결과 확인\n",
        "print(\"--- 최종 시퀀스 데이터셋 ---\")\n",
        "print(sequences.head())"
      ],
      "metadata": {
        "colab": {
          "base_uri": "https://localhost:8080/"
        },
        "outputId": "e73ce9f2-bef4-4b83-ed22-4f28fa8fddc9",
        "id": "wbowwE_aPDqj"
      },
      "execution_count": null,
      "outputs": [
        {
          "output_type": "stream",
          "name": "stdout",
          "text": [
            "--- 최종 시퀀스 데이터셋 ---\n",
            "     store_id                                     event_sequence\n",
            "0  000F03E44A  [일상, 일상, 일상, 일상, 일상, 일상, 일상, 일상, 일상, 일상, 일상, 일...\n",
            "1  002816BA73  [일상, 일상, 일상, 일상, 일상, 일상, 일상, 일상, 일상, 일상, 일상, 일...\n",
            "2  003473B465  [일상, 일상, 일상, 일상, 일상, 일상, 일상, 일상, 일상, 일상, 일상, 일...\n",
            "3  003AC99735  [일상, 일상, 일상, C5_초기핵심고객_부재, 일상, 일상, 일상, 일상, 일상,...\n",
            "4  0041E4E5AE  [일상, 일상, 일상, 일상, 일상, 일상, 일상, 일상, 일상, 일상, 일상, 일...\n"
          ]
        }
      ]
    },
    {
      "cell_type": "code",
      "source": [
        "import tensorflow as tf\n",
        "from tensorflow.keras.preprocessing.sequence import pad_sequences\n",
        "\n",
        "# 1. 모든 이벤트를 모아 고유한 이벤트 사전을 만듭니다.\n",
        "all_events = set(event for seq in sequences['event_sequence'] for event in seq)\n",
        "event2idx = {event: i + 1 for i, event in enumerate(all_events)} # 0은 패딩을 위해 남겨둠\n",
        "idx2event = {i + 1: event for i, event in enumerate(all_events)}\n",
        "\n",
        "# '폐업' 이벤트의 번호를 따로 저장해 둡니다.\n",
        "closure_idx = event2idx['폐업']\n",
        "vocab_size = len(event2idx) + 1 # 패딩 포함한 전체 사전 크기\n",
        "\n",
        "# 2. 모든 시퀀스를 정수(Integer)로 변환합니다.\n",
        "encoded_sequences = [\n",
        "    [event2idx[event] for event in seq]\n",
        "    for seq in sequences['event_sequence']\n",
        "]\n",
        "\n",
        "# 3. 모든 시퀀스의 길이를 통일합니다 (Padding).\n",
        "max_len = max(len(seq) for seq in encoded_sequences)\n",
        "padded_sequences = pad_sequences(encoded_sequences, maxlen=max_len, padding='pre')\n",
        "\n",
        "print(\"--- 정수 인코딩 및 패딩 완료 ---\")\n",
        "print(\"원본 시퀀스:\", encoded_sequences[1])\n",
        "print(\"패딩된 시퀀스:\", padded_sequences[1])"
      ],
      "metadata": {
        "colab": {
          "base_uri": "https://localhost:8080/"
        },
        "outputId": "10690aae-99d3-4d75-d4a2-c7e371a4cf3b",
        "id": "Rn8u__BDPDqk"
      },
      "execution_count": null,
      "outputs": [
        {
          "output_type": "stream",
          "name": "stdout",
          "text": [
            "--- 정수 인코딩 및 패딩 완료 ---\n",
            "원본 시퀀스: [16, 16, 16, 16, 16, 16, 16, 16, 16, 16, 16, 16, 16, 16, 16, 16, 16, 16, 16, 16, 16, 16, 16, 16, 14]\n",
            "패딩된 시퀀스: [16 16 16 16 16 16 16 16 16 16 16 16 16 16 16 16 16 16 16 16 16 16 16 16\n",
            " 14]\n"
          ]
        }
      ]
    },
    {
      "cell_type": "code",
      "source": [
        "import numpy as np\n",
        "\n",
        "X = [] # 모델에 들어갈 입력 데이터\n",
        "y = [] # 모델이 맞춰야 할 정답 데이터\n",
        "\n",
        "for seq in padded_sequences:\n",
        "    for i in range(1, len(seq)):\n",
        "        # 0이 아닌 부분까지만 학습 데이터를 생성\n",
        "        if seq[i] == 0:\n",
        "            continue\n",
        "        X.append(seq[:i])\n",
        "        y.append(seq[i])\n",
        "\n",
        "X = pad_sequences(X, maxlen=max_len, padding='pre')\n",
        "y = np.array(y)\n",
        "\n",
        "print(\"\\n--- 학습 데이터셋 생성 ---\")\n",
        "print(\"입력 데이터 예시 (X):\", X[-3:])\n",
        "print(\"정답 데이터 예시 (y):\", y[-3:])"
      ],
      "metadata": {
        "colab": {
          "base_uri": "https://localhost:8080/"
        },
        "outputId": "064659d4-564a-403a-e4be-7827fd3c3360",
        "id": "OcMYJj_KPDqk"
      },
      "execution_count": null,
      "outputs": [
        {
          "output_type": "stream",
          "name": "stdout",
          "text": [
            "\n",
            "--- 학습 데이터셋 생성 ---\n",
            "입력 데이터 예시 (X): [[ 0  0  0 16 16 16 16 16 16 16 16 16 16 16 16 16 16 16 16 16 16 16 16 16\n",
            "  16]\n",
            " [ 0  0 16 16 16 16 16 16 16 16 16 16 16 16 16 16 16 16 16 16 16 16 16 16\n",
            "  16]\n",
            " [ 0 16 16 16 16 16 16 16 16 16 16 16 16 16 16 16 16 16 16 16 16 16 16 16\n",
            "  16]]\n",
            "정답 데이터 예시 (y): [16 16 14]\n"
          ]
        }
      ]
    },
    {
      "cell_type": "code",
      "source": [
        "import tensorflow as tf\n",
        "from tensorflow.keras.models import Sequential\n",
        "from tensorflow.keras.layers import Embedding, GRU, Dense\n",
        "\n",
        "# ==============================================================================\n",
        "# 모델 정의\n",
        "# ==============================================================================\n",
        "# 모델의 각 층(Layer)을 순서대로 쌓아 만듭니다.\n",
        "\n",
        "model = Sequential([\n",
        "    # 1. Embedding Layer\n",
        "    # 단어(이벤트)를 벡터로 변환하는 층입니다.\n",
        "    # 모델이 이벤트 간의 의미적 관계를 학습하는 공간입니다.\n",
        "    # input_dim: 전체 이벤트의 개수 (패딩 포함)\n",
        "    # output_dim: 각 단어를 몇 차원의 벡터로 표현할지 (보통 64, 128 등)\n",
        "    # input_length: 입력 시퀀스의 길이\n",
        "    Embedding(input_dim=vocab_size, output_dim=64, input_length=max_len),\n",
        "\n",
        "    # 2. GRU Layer (Recurrent Neural Network)\n",
        "    # 시퀀스 데이터의 시간적 패턴(순서)을 학습하는 핵심 층입니다.\n",
        "    # units: GRU 레이어의 뉴런 수\n",
        "    GRU(units=128),\n",
        "\n",
        "    # 3. Dense Layer (Output Layer)\n",
        "    # GRU에서 처리된 결과를 바탕으로 최종 예측을 수행합니다.\n",
        "    # units: vocab_size -> 예측해야 할 이벤트의 총 개수\n",
        "    # activation='softmax': 모든 이벤트에 대한 확률을 출력하여, 총합이 1이 되도록 만듭니다.\n",
        "    Dense(units=vocab_size, activation='softmax')\n",
        "])\n",
        "\n",
        "\n",
        "# ==============================================================================\n",
        "# 모델 컴파일\n",
        "# ==============================================================================\n",
        "# 모델을 어떻게 학습시킬지 설정합니다.\n",
        "model.compile(\n",
        "    optimizer='adam',  # 가장 일반적으로 사용되는 최적화 알고리즘\n",
        "    loss='sparse_categorical_crossentropy', # 정수 형태의 정답(y)을 다룰 때 사용하는 손실 함수\n",
        "    metrics=['accuracy'] # 학습 과정을 평가할 지표\n",
        ")\n",
        "\n",
        "# 모델의 전체 구조를 확인합니다.\n",
        "model.summary()"
      ],
      "metadata": {
        "colab": {
          "base_uri": "https://localhost:8080/",
          "height": 295
        },
        "outputId": "7ac0a46f-21d2-46e5-8b5d-e0fe35d6b742",
        "id": "E_UCRJD9PDqk"
      },
      "execution_count": null,
      "outputs": [
        {
          "output_type": "stream",
          "name": "stderr",
          "text": [
            "/usr/local/lib/python3.12/dist-packages/keras/src/layers/core/embedding.py:97: UserWarning: Argument `input_length` is deprecated. Just remove it.\n",
            "  warnings.warn(\n"
          ]
        },
        {
          "output_type": "display_data",
          "data": {
            "text/plain": [
              "\u001b[1mModel: \"sequential_7\"\u001b[0m\n"
            ],
            "text/html": [
              "<pre style=\"white-space:pre;overflow-x:auto;line-height:normal;font-family:Menlo,'DejaVu Sans Mono',consolas,'Courier New',monospace\"><span style=\"font-weight: bold\">Model: \"sequential_7\"</span>\n",
              "</pre>\n"
            ]
          },
          "metadata": {}
        },
        {
          "output_type": "display_data",
          "data": {
            "text/plain": [
              "┏━━━━━━━━━━━━━━━━━━━━━━━━━━━━━━━━━┳━━━━━━━━━━━━━━━━━━━━━━━━┳━━━━━━━━━━━━━━━┓\n",
              "┃\u001b[1m \u001b[0m\u001b[1mLayer (type)                   \u001b[0m\u001b[1m \u001b[0m┃\u001b[1m \u001b[0m\u001b[1mOutput Shape          \u001b[0m\u001b[1m \u001b[0m┃\u001b[1m \u001b[0m\u001b[1m      Param #\u001b[0m\u001b[1m \u001b[0m┃\n",
              "┡━━━━━━━━━━━━━━━━━━━━━━━━━━━━━━━━━╇━━━━━━━━━━━━━━━━━━━━━━━━╇━━━━━━━━━━━━━━━┩\n",
              "│ embedding_7 (\u001b[38;5;33mEmbedding\u001b[0m)         │ ?                      │   \u001b[38;5;34m0\u001b[0m (unbuilt) │\n",
              "├─────────────────────────────────┼────────────────────────┼───────────────┤\n",
              "│ gru_4 (\u001b[38;5;33mGRU\u001b[0m)                     │ ?                      │   \u001b[38;5;34m0\u001b[0m (unbuilt) │\n",
              "├─────────────────────────────────┼────────────────────────┼───────────────┤\n",
              "│ dense_13 (\u001b[38;5;33mDense\u001b[0m)                │ ?                      │   \u001b[38;5;34m0\u001b[0m (unbuilt) │\n",
              "└─────────────────────────────────┴────────────────────────┴───────────────┘\n"
            ],
            "text/html": [
              "<pre style=\"white-space:pre;overflow-x:auto;line-height:normal;font-family:Menlo,'DejaVu Sans Mono',consolas,'Courier New',monospace\">┏━━━━━━━━━━━━━━━━━━━━━━━━━━━━━━━━━┳━━━━━━━━━━━━━━━━━━━━━━━━┳━━━━━━━━━━━━━━━┓\n",
              "┃<span style=\"font-weight: bold\"> Layer (type)                    </span>┃<span style=\"font-weight: bold\"> Output Shape           </span>┃<span style=\"font-weight: bold\">       Param # </span>┃\n",
              "┡━━━━━━━━━━━━━━━━━━━━━━━━━━━━━━━━━╇━━━━━━━━━━━━━━━━━━━━━━━━╇━━━━━━━━━━━━━━━┩\n",
              "│ embedding_7 (<span style=\"color: #0087ff; text-decoration-color: #0087ff\">Embedding</span>)         │ ?                      │   <span style=\"color: #00af00; text-decoration-color: #00af00\">0</span> (unbuilt) │\n",
              "├─────────────────────────────────┼────────────────────────┼───────────────┤\n",
              "│ gru_4 (<span style=\"color: #0087ff; text-decoration-color: #0087ff\">GRU</span>)                     │ ?                      │   <span style=\"color: #00af00; text-decoration-color: #00af00\">0</span> (unbuilt) │\n",
              "├─────────────────────────────────┼────────────────────────┼───────────────┤\n",
              "│ dense_13 (<span style=\"color: #0087ff; text-decoration-color: #0087ff\">Dense</span>)                │ ?                      │   <span style=\"color: #00af00; text-decoration-color: #00af00\">0</span> (unbuilt) │\n",
              "└─────────────────────────────────┴────────────────────────┴───────────────┘\n",
              "</pre>\n"
            ]
          },
          "metadata": {}
        },
        {
          "output_type": "display_data",
          "data": {
            "text/plain": [
              "\u001b[1m Total params: \u001b[0m\u001b[38;5;34m0\u001b[0m (0.00 B)\n"
            ],
            "text/html": [
              "<pre style=\"white-space:pre;overflow-x:auto;line-height:normal;font-family:Menlo,'DejaVu Sans Mono',consolas,'Courier New',monospace\"><span style=\"font-weight: bold\"> Total params: </span><span style=\"color: #00af00; text-decoration-color: #00af00\">0</span> (0.00 B)\n",
              "</pre>\n"
            ]
          },
          "metadata": {}
        },
        {
          "output_type": "display_data",
          "data": {
            "text/plain": [
              "\u001b[1m Trainable params: \u001b[0m\u001b[38;5;34m0\u001b[0m (0.00 B)\n"
            ],
            "text/html": [
              "<pre style=\"white-space:pre;overflow-x:auto;line-height:normal;font-family:Menlo,'DejaVu Sans Mono',consolas,'Courier New',monospace\"><span style=\"font-weight: bold\"> Trainable params: </span><span style=\"color: #00af00; text-decoration-color: #00af00\">0</span> (0.00 B)\n",
              "</pre>\n"
            ]
          },
          "metadata": {}
        },
        {
          "output_type": "display_data",
          "data": {
            "text/plain": [
              "\u001b[1m Non-trainable params: \u001b[0m\u001b[38;5;34m0\u001b[0m (0.00 B)\n"
            ],
            "text/html": [
              "<pre style=\"white-space:pre;overflow-x:auto;line-height:normal;font-family:Menlo,'DejaVu Sans Mono',consolas,'Courier New',monospace\"><span style=\"font-weight: bold\"> Non-trainable params: </span><span style=\"color: #00af00; text-decoration-color: #00af00\">0</span> (0.00 B)\n",
              "</pre>\n"
            ]
          },
          "metadata": {}
        }
      ]
    },
    {
      "cell_type": "code",
      "source": [
        "# ==============================================================================\n",
        "# 모델 학습\n",
        "# ==============================================================================\n",
        "# epochs: 전체 데이터셋을 몇 번 반복해서 학습할지\n",
        "# batch_size: 한 번에 몇 개의 데이터를 묶어서 처리할지\n",
        "history = model.fit(\n",
        "    X,\n",
        "    y,\n",
        "    epochs=10,\n",
        "    batch_size=64,\n",
        "    validation_split=0.2 # 데이터의 20%를 검증용으로 사용\n",
        ")\n",
        "\n",
        "# 이제 'model'은 학습이 완료된 상태입니다.\n",
        "# 이 모델을 사용하여 이전 단계에서 설명한 것처럼 '폐업 위험도'를 예측할 수 있습니다."
      ],
      "metadata": {
        "colab": {
          "base_uri": "https://localhost:8080/"
        },
        "outputId": "7f359fb4-78d6-4096-e610-1aba30050414",
        "id": "-hLAPRHPPDqk"
      },
      "execution_count": null,
      "outputs": [
        {
          "output_type": "stream",
          "name": "stdout",
          "text": [
            "Epoch 1/10\n",
            "\u001b[1m1096/1096\u001b[0m \u001b[32m━━━━━━━━━━━━━━━━━━━━\u001b[0m\u001b[37m\u001b[0m \u001b[1m39s\u001b[0m 34ms/step - accuracy: 0.8700 - loss: 0.6288 - val_accuracy: 0.9176 - val_loss: 0.3265\n",
            "Epoch 2/10\n",
            "\u001b[1m1096/1096\u001b[0m \u001b[32m━━━━━━━━━━━━━━━━━━━━\u001b[0m\u001b[37m\u001b[0m \u001b[1m36s\u001b[0m 33ms/step - accuracy: 0.9198 - loss: 0.3145 - val_accuracy: 0.9183 - val_loss: 0.3094\n",
            "Epoch 3/10\n",
            "\u001b[1m1096/1096\u001b[0m \u001b[32m━━━━━━━━━━━━━━━━━━━━\u001b[0m\u001b[37m\u001b[0m \u001b[1m37s\u001b[0m 33ms/step - accuracy: 0.9212 - loss: 0.3006 - val_accuracy: 0.9191 - val_loss: 0.3053\n",
            "Epoch 4/10\n",
            "\u001b[1m1096/1096\u001b[0m \u001b[32m━━━━━━━━━━━━━━━━━━━━\u001b[0m\u001b[37m\u001b[0m \u001b[1m36s\u001b[0m 33ms/step - accuracy: 0.9207 - loss: 0.2957 - val_accuracy: 0.9203 - val_loss: 0.3024\n",
            "Epoch 5/10\n",
            "\u001b[1m1096/1096\u001b[0m \u001b[32m━━━━━━━━━━━━━━━━━━━━\u001b[0m\u001b[37m\u001b[0m \u001b[1m41s\u001b[0m 33ms/step - accuracy: 0.9203 - loss: 0.2945 - val_accuracy: 0.9195 - val_loss: 0.3012\n",
            "Epoch 6/10\n",
            "\u001b[1m1096/1096\u001b[0m \u001b[32m━━━━━━━━━━━━━━━━━━━━\u001b[0m\u001b[37m\u001b[0m \u001b[1m35s\u001b[0m 32ms/step - accuracy: 0.9208 - loss: 0.2946 - val_accuracy: 0.9202 - val_loss: 0.2995\n",
            "Epoch 7/10\n",
            "\u001b[1m1096/1096\u001b[0m \u001b[32m━━━━━━━━━━━━━━━━━━━━\u001b[0m\u001b[37m\u001b[0m \u001b[1m35s\u001b[0m 32ms/step - accuracy: 0.9215 - loss: 0.2855 - val_accuracy: 0.9209 - val_loss: 0.2972\n",
            "Epoch 8/10\n",
            "\u001b[1m1096/1096\u001b[0m \u001b[32m━━━━━━━━━━━━━━━━━━━━\u001b[0m\u001b[37m\u001b[0m \u001b[1m34s\u001b[0m 31ms/step - accuracy: 0.9192 - loss: 0.2941 - val_accuracy: 0.9140 - val_loss: 0.3245\n",
            "Epoch 9/10\n",
            "\u001b[1m1096/1096\u001b[0m \u001b[32m━━━━━━━━━━━━━━━━━━━━\u001b[0m\u001b[37m\u001b[0m \u001b[1m35s\u001b[0m 31ms/step - accuracy: 0.9238 - loss: 0.2839 - val_accuracy: 0.9194 - val_loss: 0.3084\n",
            "Epoch 10/10\n",
            "\u001b[1m1096/1096\u001b[0m \u001b[32m━━━━━━━━━━━━━━━━━━━━\u001b[0m\u001b[37m\u001b[0m \u001b[1m34s\u001b[0m 31ms/step - accuracy: 0.9220 - loss: 0.2823 - val_accuracy: 0.9205 - val_loss: 0.2928\n"
          ]
        }
      ]
    },
    {
      "cell_type": "code",
      "source": [
        "import numpy as np\n",
        "import matplotlib.pyplot as plt\n",
        "from sklearn.metrics import confusion_matrix, classification_report, precision_recall_curve\n",
        "\n",
        "# 1. 검증 데이터 준비\n",
        "split_point = int(len(X) * 0.8)\n",
        "X_val, y_val = X[split_point:], y[split_point:]\n",
        "\n",
        "# 2. '폐업' 클래스의 예측 확률만 추출\n",
        "y_pred_probs = model.predict(X_val)[:, closure_idx]\n",
        "\n",
        "# 3. Precision-Recall 커브 계산 및 시각화\n",
        "precisions, recalls, thresholds = precision_recall_curve(y_val == closure_idx, y_pred_probs)\n",
        "\n",
        "plt.figure(figsize=(10, 6))\n",
        "plt.plot(thresholds, precisions[:-1], \"b--\", label=\"Precision\")\n",
        "plt.plot(thresholds, recalls[:-1], \"g-\", label=\"Recall\")\n",
        "plt.xlabel(\"Threshold\")\n",
        "plt.legend()\n",
        "plt.title(\"GRU Model: Precision-Recall vs. Threshold\")\n",
        "plt.grid(True)\n",
        "plt.show()\n",
        "\n",
        "# 4. F1-score가 최대가 되는 최적 임계값으로 최종 성능 확인\n",
        "f1_scores = 2 * recalls * precisions / (recalls + precisions + 1e-10)\n",
        "best_threshold = thresholds[np.argmax(f1_scores[:-1])]\n",
        "print(f\"최적 임계값 (Best F1-score): {best_threshold:.4f}\")\n",
        "\n",
        "final_pred = (y_pred_probs >= best_threshold).astype(int)\n",
        "print(\"\\n--- GRU 모델 최종 성능 평가 ---\")\n",
        "print(classification_report(y_val == closure_idx, final_pred))"
      ],
      "metadata": {
        "colab": {
          "base_uri": "https://localhost:8080/",
          "height": 646
        },
        "outputId": "171f27c1-aafe-405e-a28b-cfe483956eb1",
        "id": "SaL1d12iPDqk"
      },
      "execution_count": null,
      "outputs": [
        {
          "output_type": "stream",
          "name": "stdout",
          "text": [
            "\u001b[1m549/549\u001b[0m \u001b[32m━━━━━━━━━━━━━━━━━━━━\u001b[0m\u001b[37m\u001b[0m \u001b[1m5s\u001b[0m 8ms/step\n"
          ]
        },
        {
          "output_type": "display_data",
          "data": {
            "text/plain": [
              "<Figure size 1000x600 with 1 Axes>"
            ],
            "image/png": "[encoded data removed]"
          },
          "metadata": {}
        },
        {
          "output_type": "stream",
          "name": "stdout",
          "text": [
            "최적 임계값 (Best F1-score): 0.0316\n",
            "\n",
            "--- GRU 모델 최종 성능 평가 ---\n",
            "              precision    recall  f1-score   support\n",
            "\n",
            "       False       1.00      1.00      1.00     17511\n",
            "        True       0.04      0.12      0.06        26\n",
            "\n",
            "    accuracy                           0.99     17537\n",
            "   macro avg       0.52      0.56      0.53     17537\n",
            "weighted avg       1.00      0.99      1.00     17537\n",
            "\n"
          ]
        }
      ]
    },
    {
      "cell_type": "code",
      "source": [],
      "metadata": {
        "id": "KIpHP-VpPU3W"
      },
      "execution_count": null,
      "outputs": []
    }
  ]
}